{
 "cells": [
  {
   "cell_type": "code",
   "execution_count": 12,
   "metadata": {},
   "outputs": [
    {
     "name": "stdout",
     "output_type": "stream",
     "text": [
      "PyTorch version: 2.6.0+cu118\n",
      "CUDA version (compiled): 11.8\n",
      "Is CUDA available? True\n",
      "GPU count: 1\n",
      "GPU 0 name: NVIDIA GeForce RTX 4070 SUPER\n"
     ]
    }
   ],
   "source": [
    "import torch\n",
    "print(\"PyTorch version:\", torch.__version__)\n",
    "print(\"CUDA version (compiled):\", torch.version.cuda)\n",
    "print(\"Is CUDA available?\", torch.cuda.is_available())\n",
    "print(\"GPU count:\", torch.cuda.device_count())\n",
    "if torch.cuda.is_available():\n",
    "    for i in range(torch.cuda.device_count()):\n",
    "        print(f\"GPU {i} name:\", torch.cuda.get_device_name(i))\n"
   ]
  },
  {
   "cell_type": "code",
   "execution_count": 2,
   "metadata": {},
   "outputs": [],
   "source": [
    "from datasets import load_dataset\n",
    "\n",
    "# Login using e.g. `huggingface-cli login` to access this dataset\n",
    "ds = load_dataset(\"friedrichor/MSR-VTT\", \"test_1k\")"
   ]
  },
  {
   "cell_type": "code",
   "execution_count": 11,
   "metadata": {},
   "outputs": [
    {
     "name": "stdout",
     "output_type": "stream",
     "text": [
      "Number of samples in the dataset: 1\n",
      "Keys in the first sample: dict_keys(['video_id', 'video', 'caption', 'source', 'category', 'url', 'start time', 'end time', 'id'])\n",
      "First sample data: {'video_id': 'video7020', 'video': 'video7020.mp4', 'caption': 'a woman creating a fondant baby and flower', 'source': 'MSR-VTT', 'category': 10, 'url': 'https://www.youtube.com/watch?v=4KRMJNBjrEs', 'start time': 221.77, 'end time': 233.08, 'id': 7020}\n",
      "First sample video path: video7020.mp4\n",
      "First sample caption: a woman creating a fondant baby and flower\n",
      "URL: https://www.youtube.com/watch?v=4KRMJNBjrEs\n"
     ]
    }
   ],
   "source": [
    "print(\"Number of samples in the dataset:\", len(ds))\n",
    "print(\"Keys in the first sample:\", ds['test'][0].keys())\n",
    "print(\"First sample data:\", ds['test'][0])\n",
    "print(\"First sample video path:\", ds['test'][0]['video'])\n",
    "print(\"First sample caption:\", ds['test'][0]['caption'])\n",
    "print(\"URL:\", ds['test'][0]['url'])"
   ]
  },
  {
   "cell_type": "code",
   "execution_count": 3,
   "metadata": {},
   "outputs": [
    {
     "name": "stdout",
     "output_type": "stream",
     "text": [
      "Video video7020 already downloaded. Skipping...\n",
      "Video video7021 already downloaded. Skipping...\n",
      "Video video7024 already downloaded. Skipping...\n",
      "Processing video video7025...\n",
      "Downloading full video...\n",
      "[youtube] Extracting URL: https://www.youtube.com/watch?v=-iEnLnezuxE\n",
      "[youtube] -iEnLnezuxE: Downloading webpage\n",
      "[youtube] -iEnLnezuxE: Downloading tv client config\n",
      "[youtube] -iEnLnezuxE: Downloading player 69f581a5\n",
      "[youtube] -iEnLnezuxE: Downloading tv player API JSON\n",
      "[youtube] -iEnLnezuxE: Downloading ios player API JSON\n"
     ]
    },
    {
     "name": "stderr",
     "output_type": "stream",
     "text": [
      "ERROR: [youtube] -iEnLnezuxE: Video unavailable. This video is no longer available due to a copyright claim by BroadviewPictures\n"
     ]
    },
    {
     "name": "stdout",
     "output_type": "stream",
     "text": [
      "Skipping video video7025 due to error: ERROR: [youtube] -iEnLnezuxE: Video unavailable. This video is no longer available due to a copyright claim by BroadviewPictures\n",
      "Video video7026 already downloaded. Skipping...\n",
      "Video video7027 already downloaded. Skipping...\n",
      "Video video7028 already downloaded. Skipping...\n",
      "Video video7029 already downloaded. Skipping...\n",
      "Video video7034 already downloaded. Skipping...\n",
      "Processing video video7035...\n",
      "Downloading full video...\n",
      "[youtube] Extracting URL: https://www.youtube.com/watch?v=yx0PUXjlpZg\n",
      "[youtube] yx0PUXjlpZg: Downloading webpage\n",
      "[youtube] yx0PUXjlpZg: Downloading tv client config\n",
      "[youtube] yx0PUXjlpZg: Downloading player 69f581a5\n",
      "[youtube] yx0PUXjlpZg: Downloading tv player API JSON\n",
      "[youtube] yx0PUXjlpZg: Downloading ios player API JSON\n"
     ]
    },
    {
     "name": "stderr",
     "output_type": "stream",
     "text": [
      "ERROR: [youtube] yx0PUXjlpZg: Private video. Sign in if you've been granted access to this video. Use --cookies-from-browser or --cookies for the authentication. See  https://github.com/yt-dlp/yt-dlp/wiki/FAQ#how-do-i-pass-cookies-to-yt-dlp  for how to manually pass cookies. Also see  https://github.com/yt-dlp/yt-dlp/wiki/Extractors#exporting-youtube-cookies  for tips on effectively exporting YouTube cookies\n"
     ]
    },
    {
     "name": "stdout",
     "output_type": "stream",
     "text": [
      "Skipping video video7035 due to error: ERROR: [youtube] yx0PUXjlpZg: Private video. Sign in if you've been granted access to this video. Use --cookies-from-browser or --cookies for the authentication. See  https://github.com/yt-dlp/yt-dlp/wiki/FAQ#how-do-i-pass-cookies-to-yt-dlp  for how to manually pass cookies. Also see  https://github.com/yt-dlp/yt-dlp/wiki/Extractors#exporting-youtube-cookies  for tips on effectively exporting YouTube cookies\n",
      "Video video7060 already downloaded. Skipping...\n",
      "Video video7061 already downloaded. Skipping...\n",
      "Video video7064 already downloaded. Skipping...\n",
      "Video video7110 already downloaded. Skipping...\n",
      "Video video7111 already downloaded. Skipping...\n",
      "Processing video video7112...\n",
      "Downloading full video...\n",
      "[youtube] Extracting URL: https://www.youtube.com/watch?v=ul7WMqboxbA\n",
      "[youtube] ul7WMqboxbA: Downloading webpage\n",
      "[youtube] ul7WMqboxbA: Downloading tv client config\n",
      "[youtube] ul7WMqboxbA: Downloading player 69f581a5\n",
      "[youtube] ul7WMqboxbA: Downloading tv player API JSON\n",
      "[youtube] ul7WMqboxbA: Downloading ios player API JSON\n"
     ]
    },
    {
     "name": "stderr",
     "output_type": "stream",
     "text": [
      "ERROR: [youtube] ul7WMqboxbA: Sign in to confirm your age. This video may be inappropriate for some users. Use --cookies-from-browser or --cookies for the authentication. See  https://github.com/yt-dlp/yt-dlp/wiki/FAQ#how-do-i-pass-cookies-to-yt-dlp  for how to manually pass cookies. Also see  https://github.com/yt-dlp/yt-dlp/wiki/Extractors#exporting-youtube-cookies  for tips on effectively exporting YouTube cookies\n"
     ]
    },
    {
     "name": "stdout",
     "output_type": "stream",
     "text": [
      "Skipping video video7112 due to error: ERROR: [youtube] ul7WMqboxbA: Sign in to confirm your age. This video may be inappropriate for some users. Use --cookies-from-browser or --cookies for the authentication. See  https://github.com/yt-dlp/yt-dlp/wiki/FAQ#how-do-i-pass-cookies-to-yt-dlp  for how to manually pass cookies. Also see  https://github.com/yt-dlp/yt-dlp/wiki/Extractors#exporting-youtube-cookies  for tips on effectively exporting YouTube cookies\n",
      "Video video7113 already downloaded. Skipping...\n",
      "Video video7114 already downloaded. Skipping...\n",
      "Video video7115 already downloaded. Skipping...\n",
      "Video video7116 already downloaded. Skipping...\n",
      "Video video7117 already downloaded. Skipping...\n",
      "Video video7118 already downloaded. Skipping...\n",
      "Video video7119 already downloaded. Skipping...\n",
      "Processing video video7131...\n",
      "Downloading full video...\n",
      "[youtube] Extracting URL: https://www.youtube.com/watch?v=VNxNuFNeHHg\n",
      "[youtube] VNxNuFNeHHg: Downloading webpage\n",
      "[youtube] VNxNuFNeHHg: Downloading tv client config\n",
      "[youtube] VNxNuFNeHHg: Downloading player 69f581a5\n",
      "[youtube] VNxNuFNeHHg: Downloading tv player API JSON\n",
      "[youtube] VNxNuFNeHHg: Downloading ios player API JSON\n"
     ]
    },
    {
     "name": "stderr",
     "output_type": "stream",
     "text": [
      "ERROR: [youtube] VNxNuFNeHHg: Video unavailable\n"
     ]
    },
    {
     "name": "stdout",
     "output_type": "stream",
     "text": [
      "Skipping video video7131 due to error: ERROR: [youtube] VNxNuFNeHHg: Video unavailable\n",
      "Video video7134 already downloaded. Skipping...\n",
      "Video video7135 already downloaded. Skipping...\n",
      "Processing video video7137...\n",
      "Downloading full video...\n",
      "[youtube] Extracting URL: https://www.youtube.com/watch?v=2ZiTb7uir2c\n",
      "[youtube] 2ZiTb7uir2c: Downloading webpage\n",
      "[youtube] 2ZiTb7uir2c: Downloading tv client config\n",
      "[youtube] 2ZiTb7uir2c: Downloading player 69f581a5\n",
      "[youtube] 2ZiTb7uir2c: Downloading tv player API JSON\n",
      "[youtube] 2ZiTb7uir2c: Downloading ios player API JSON\n"
     ]
    },
    {
     "name": "stderr",
     "output_type": "stream",
     "text": [
      "ERROR: [youtube] 2ZiTb7uir2c: Video unavailable\n"
     ]
    },
    {
     "name": "stdout",
     "output_type": "stream",
     "text": [
      "Skipping video video7137 due to error: ERROR: [youtube] 2ZiTb7uir2c: Video unavailable\n",
      "Processing video video7138...\n",
      "Downloading full video...\n",
      "[youtube] Extracting URL: https://www.youtube.com/watch?v=2McWGF6zqKc\n",
      "[youtube] 2McWGF6zqKc: Downloading webpage\n",
      "[youtube] 2McWGF6zqKc: Downloading tv client config\n",
      "[youtube] 2McWGF6zqKc: Downloading player 69f581a5\n",
      "[youtube] 2McWGF6zqKc: Downloading tv player API JSON\n",
      "[youtube] 2McWGF6zqKc: Downloading ios player API JSON\n"
     ]
    },
    {
     "name": "stderr",
     "output_type": "stream",
     "text": [
      "ERROR: [youtube] 2McWGF6zqKc: Private video. Sign in if you've been granted access to this video. Use --cookies-from-browser or --cookies for the authentication. See  https://github.com/yt-dlp/yt-dlp/wiki/FAQ#how-do-i-pass-cookies-to-yt-dlp  for how to manually pass cookies. Also see  https://github.com/yt-dlp/yt-dlp/wiki/Extractors#exporting-youtube-cookies  for tips on effectively exporting YouTube cookies\n"
     ]
    },
    {
     "name": "stdout",
     "output_type": "stream",
     "text": [
      "Skipping video video7138 due to error: ERROR: [youtube] 2McWGF6zqKc: Private video. Sign in if you've been granted access to this video. Use --cookies-from-browser or --cookies for the authentication. See  https://github.com/yt-dlp/yt-dlp/wiki/FAQ#how-do-i-pass-cookies-to-yt-dlp  for how to manually pass cookies. Also see  https://github.com/yt-dlp/yt-dlp/wiki/Extractors#exporting-youtube-cookies  for tips on effectively exporting YouTube cookies\n",
      "Video video7140 already downloaded. Skipping...\n",
      "Processing video video7141...\n",
      "Downloading full video...\n",
      "[youtube] Extracting URL: https://www.youtube.com/watch?v=yiMb0tXIuI0\n",
      "[youtube] yiMb0tXIuI0: Downloading webpage\n",
      "[youtube] yiMb0tXIuI0: Downloading tv client config\n",
      "[youtube] yiMb0tXIuI0: Downloading player 69f581a5\n",
      "[youtube] yiMb0tXIuI0: Downloading tv player API JSON\n",
      "[youtube] yiMb0tXIuI0: Downloading ios player API JSON\n"
     ]
    },
    {
     "name": "stderr",
     "output_type": "stream",
     "text": [
      "ERROR: [youtube] yiMb0tXIuI0: Video unavailable. This video is no longer available because the YouTube account associated with this video has been terminated.\n"
     ]
    },
    {
     "name": "stdout",
     "output_type": "stream",
     "text": [
      "Skipping video video7141 due to error: ERROR: [youtube] yiMb0tXIuI0: Video unavailable. This video is no longer available because the YouTube account associated with this video has been terminated.\n",
      "Video video7142 already downloaded. Skipping...\n",
      "Video video7143 already downloaded. Skipping...\n",
      "Processing video video7144...\n",
      "Downloading full video...\n",
      "[youtube] Extracting URL: https://www.youtube.com/watch?v=81YNEOAShvM\n",
      "[youtube] 81YNEOAShvM: Downloading webpage\n",
      "[youtube] 81YNEOAShvM: Downloading tv client config\n",
      "[youtube] 81YNEOAShvM: Downloading player 69f581a5\n",
      "[youtube] 81YNEOAShvM: Downloading tv player API JSON\n",
      "[youtube] 81YNEOAShvM: Downloading ios player API JSON\n"
     ]
    },
    {
     "name": "stderr",
     "output_type": "stream",
     "text": [
      "ERROR: [youtube] 81YNEOAShvM: Video unavailable. This video is no longer available because the YouTube account associated with this video has been terminated.\n"
     ]
    },
    {
     "name": "stdout",
     "output_type": "stream",
     "text": [
      "Skipping video video7144 due to error: ERROR: [youtube] 81YNEOAShvM: Video unavailable. This video is no longer available because the YouTube account associated with this video has been terminated.\n",
      "Video video7145 already downloaded. Skipping...\n",
      "Processing video video7146...\n",
      "Downloading full video...\n",
      "[youtube] Extracting URL: https://www.youtube.com/watch?v=_TyIA0rKTWo\n",
      "[youtube] _TyIA0rKTWo: Downloading webpage\n",
      "[youtube] _TyIA0rKTWo: Downloading tv client config\n",
      "[youtube] _TyIA0rKTWo: Downloading player 69f581a5\n",
      "[youtube] _TyIA0rKTWo: Downloading tv player API JSON\n",
      "[youtube] _TyIA0rKTWo: Downloading ios player API JSON\n"
     ]
    },
    {
     "name": "stderr",
     "output_type": "stream",
     "text": [
      "ERROR: [youtube] _TyIA0rKTWo: Video unavailable. This video is no longer available because the YouTube account associated with this video has been terminated.\n"
     ]
    },
    {
     "name": "stdout",
     "output_type": "stream",
     "text": [
      "Skipping video video7146 due to error: ERROR: [youtube] _TyIA0rKTWo: Video unavailable. This video is no longer available because the YouTube account associated with this video has been terminated.\n",
      "Processing video video7147...\n",
      "Downloading full video...\n",
      "[youtube] Extracting URL: https://www.youtube.com/watch?v=Iu2ZPHLqXuY\n",
      "[youtube] Iu2ZPHLqXuY: Downloading webpage\n",
      "[youtube] Iu2ZPHLqXuY: Downloading tv client config\n",
      "[youtube] Iu2ZPHLqXuY: Downloading player 69f581a5\n",
      "[youtube] Iu2ZPHLqXuY: Downloading tv player API JSON\n",
      "[youtube] Iu2ZPHLqXuY: Downloading ios player API JSON\n"
     ]
    },
    {
     "name": "stderr",
     "output_type": "stream",
     "text": [
      "ERROR: [youtube] Iu2ZPHLqXuY: Video unavailable. This video has been removed by the uploader\n"
     ]
    },
    {
     "name": "stdout",
     "output_type": "stream",
     "text": [
      "Skipping video video7147 due to error: ERROR: [youtube] Iu2ZPHLqXuY: Video unavailable. This video has been removed by the uploader\n",
      "Video video7148 already downloaded. Skipping...\n",
      "Video video7149 already downloaded. Skipping...\n",
      "Processing video video7150...\n",
      "Downloading full video...\n",
      "[youtube] Extracting URL: https://www.youtube.com/watch?v=vS0hkIe12Jg\n",
      "[youtube] vS0hkIe12Jg: Downloading webpage\n",
      "[youtube] vS0hkIe12Jg: Downloading tv client config\n",
      "[youtube] vS0hkIe12Jg: Downloading player 69f581a5\n",
      "[youtube] vS0hkIe12Jg: Downloading tv player API JSON\n",
      "[youtube] vS0hkIe12Jg: Downloading ios player API JSON\n"
     ]
    },
    {
     "name": "stderr",
     "output_type": "stream",
     "text": [
      "ERROR: [youtube] vS0hkIe12Jg: Video unavailable\n"
     ]
    },
    {
     "name": "stdout",
     "output_type": "stream",
     "text": [
      "Skipping video video7150 due to error: ERROR: [youtube] vS0hkIe12Jg: Video unavailable\n",
      "Video video7151 already downloaded. Skipping...\n",
      "Video video7152 already downloaded. Skipping...\n",
      "Video video7153 already downloaded. Skipping...\n",
      "Video video7154 already downloaded. Skipping...\n",
      "Video video7155 already downloaded. Skipping...\n",
      "Video video7156 already downloaded. Skipping...\n",
      "Processing video video7157...\n",
      "Downloading full video...\n",
      "[youtube] Extracting URL: https://www.youtube.com/watch?v=6K1cTDs6O9o\n",
      "[youtube] 6K1cTDs6O9o: Downloading webpage\n",
      "[youtube] 6K1cTDs6O9o: Downloading tv client config\n",
      "[youtube] 6K1cTDs6O9o: Downloading player 69f581a5\n",
      "[youtube] 6K1cTDs6O9o: Downloading tv player API JSON\n",
      "[youtube] 6K1cTDs6O9o: Downloading ios player API JSON\n"
     ]
    },
    {
     "name": "stderr",
     "output_type": "stream",
     "text": [
      "ERROR: [youtube] 6K1cTDs6O9o: Video unavailable. This video contains content from ShoPro, who has blocked it on copyright grounds\n"
     ]
    },
    {
     "name": "stdout",
     "output_type": "stream",
     "text": [
      "Skipping video video7157 due to error: ERROR: [youtube] 6K1cTDs6O9o: Video unavailable. This video contains content from ShoPro, who has blocked it on copyright grounds\n",
      "Video video7158 already downloaded. Skipping...\n",
      "Processing video video7159...\n",
      "Downloading full video...\n",
      "[youtube] Extracting URL: https://www.youtube.com/watch?v=C9Thr-L6Ink\n",
      "[youtube] C9Thr-L6Ink: Downloading webpage\n",
      "[youtube] C9Thr-L6Ink: Downloading tv client config\n",
      "[youtube] C9Thr-L6Ink: Downloading player 69f581a5\n",
      "[youtube] C9Thr-L6Ink: Downloading tv player API JSON\n",
      "[youtube] C9Thr-L6Ink: Downloading ios player API JSON\n"
     ]
    },
    {
     "name": "stderr",
     "output_type": "stream",
     "text": [
      "ERROR: [youtube] C9Thr-L6Ink: Video unavailable\n"
     ]
    },
    {
     "name": "stdout",
     "output_type": "stream",
     "text": [
      "Skipping video video7159 due to error: ERROR: [youtube] C9Thr-L6Ink: Video unavailable\n",
      "Video video7160 already downloaded. Skipping...\n",
      "Processing video video7162...\n",
      "Downloading full video...\n",
      "[youtube] Extracting URL: https://www.youtube.com/watch?v=CkrKw8QQtqE\n",
      "[youtube] CkrKw8QQtqE: Downloading webpage\n",
      "[youtube] CkrKw8QQtqE: Downloading tv client config\n",
      "[youtube] CkrKw8QQtqE: Downloading player 69f581a5\n",
      "[youtube] CkrKw8QQtqE: Downloading tv player API JSON\n",
      "[youtube] CkrKw8QQtqE: Downloading ios player API JSON\n"
     ]
    },
    {
     "name": "stderr",
     "output_type": "stream",
     "text": [
      "ERROR: [youtube] CkrKw8QQtqE: Video unavailable\n"
     ]
    },
    {
     "name": "stdout",
     "output_type": "stream",
     "text": [
      "Skipping video video7162 due to error: ERROR: [youtube] CkrKw8QQtqE: Video unavailable\n",
      "Processing video video7163...\n",
      "Downloading full video...\n",
      "[youtube] Extracting URL: https://www.youtube.com/watch?v=FyRysi1Vovs\n",
      "[youtube] FyRysi1Vovs: Downloading webpage\n",
      "[youtube] FyRysi1Vovs: Downloading tv client config\n",
      "[youtube] FyRysi1Vovs: Downloading player 69f581a5\n",
      "[youtube] FyRysi1Vovs: Downloading tv player API JSON\n",
      "[youtube] FyRysi1Vovs: Downloading ios player API JSON\n"
     ]
    },
    {
     "name": "stderr",
     "output_type": "stream",
     "text": [
      "ERROR: [youtube] FyRysi1Vovs: Private video. Sign in if you've been granted access to this video. Use --cookies-from-browser or --cookies for the authentication. See  https://github.com/yt-dlp/yt-dlp/wiki/FAQ#how-do-i-pass-cookies-to-yt-dlp  for how to manually pass cookies. Also see  https://github.com/yt-dlp/yt-dlp/wiki/Extractors#exporting-youtube-cookies  for tips on effectively exporting YouTube cookies\n"
     ]
    },
    {
     "name": "stdout",
     "output_type": "stream",
     "text": [
      "Skipping video video7163 due to error: ERROR: [youtube] FyRysi1Vovs: Private video. Sign in if you've been granted access to this video. Use --cookies-from-browser or --cookies for the authentication. See  https://github.com/yt-dlp/yt-dlp/wiki/FAQ#how-do-i-pass-cookies-to-yt-dlp  for how to manually pass cookies. Also see  https://github.com/yt-dlp/yt-dlp/wiki/Extractors#exporting-youtube-cookies  for tips on effectively exporting YouTube cookies\n",
      "Processing video video7164...\n",
      "Downloading full video...\n",
      "[youtube] Extracting URL: https://www.youtube.com/watch?v=or0uB1yeD5I\n",
      "[youtube] or0uB1yeD5I: Downloading webpage\n",
      "[youtube] or0uB1yeD5I: Downloading tv client config\n",
      "[youtube] or0uB1yeD5I: Downloading player 69f581a5\n",
      "[youtube] or0uB1yeD5I: Downloading tv player API JSON\n",
      "[youtube] or0uB1yeD5I: Downloading ios player API JSON\n"
     ]
    },
    {
     "name": "stderr",
     "output_type": "stream",
     "text": [
      "ERROR: [youtube] or0uB1yeD5I: Video unavailable. This video is no longer available due to a copyright claim by Joeri Christiaen (THURISTAR - my company)\n"
     ]
    },
    {
     "name": "stdout",
     "output_type": "stream",
     "text": [
      "Skipping video video7164 due to error: ERROR: [youtube] or0uB1yeD5I: Video unavailable. This video is no longer available due to a copyright claim by Joeri Christiaen (THURISTAR - my company)\n",
      "Video video7165 already downloaded. Skipping...\n",
      "Processing video video7166...\n",
      "Downloading full video...\n",
      "[youtube] Extracting URL: https://www.youtube.com/watch?v=-RbCuuC2dk0\n",
      "[youtube] -RbCuuC2dk0: Downloading webpage\n",
      "[youtube] -RbCuuC2dk0: Downloading tv client config\n",
      "[youtube] -RbCuuC2dk0: Downloading player 69f581a5\n",
      "[youtube] -RbCuuC2dk0: Downloading tv player API JSON\n",
      "[youtube] -RbCuuC2dk0: Downloading ios player API JSON\n"
     ]
    },
    {
     "name": "stderr",
     "output_type": "stream",
     "text": [
      "ERROR: [youtube] -RbCuuC2dk0: Private video. Sign in if you've been granted access to this video. Use --cookies-from-browser or --cookies for the authentication. See  https://github.com/yt-dlp/yt-dlp/wiki/FAQ#how-do-i-pass-cookies-to-yt-dlp  for how to manually pass cookies. Also see  https://github.com/yt-dlp/yt-dlp/wiki/Extractors#exporting-youtube-cookies  for tips on effectively exporting YouTube cookies\n"
     ]
    },
    {
     "name": "stdout",
     "output_type": "stream",
     "text": [
      "Skipping video video7166 due to error: ERROR: [youtube] -RbCuuC2dk0: Private video. Sign in if you've been granted access to this video. Use --cookies-from-browser or --cookies for the authentication. See  https://github.com/yt-dlp/yt-dlp/wiki/FAQ#how-do-i-pass-cookies-to-yt-dlp  for how to manually pass cookies. Also see  https://github.com/yt-dlp/yt-dlp/wiki/Extractors#exporting-youtube-cookies  for tips on effectively exporting YouTube cookies\n",
      "Video video7168 already downloaded. Skipping...\n",
      "Processing video video7169...\n",
      "Downloading full video...\n",
      "[youtube] Extracting URL: https://www.youtube.com/watch?v=WvAtcM4vMuc\n",
      "[youtube] WvAtcM4vMuc: Downloading webpage\n",
      "[youtube] WvAtcM4vMuc: Downloading tv client config\n",
      "[youtube] WvAtcM4vMuc: Downloading player 69f581a5\n",
      "[youtube] WvAtcM4vMuc: Downloading tv player API JSON\n",
      "[youtube] WvAtcM4vMuc: Downloading ios player API JSON\n"
     ]
    },
    {
     "name": "stderr",
     "output_type": "stream",
     "text": [
      "ERROR: [youtube] WvAtcM4vMuc: Sign in to confirm your age. This video may be inappropriate for some users. Use --cookies-from-browser or --cookies for the authentication. See  https://github.com/yt-dlp/yt-dlp/wiki/FAQ#how-do-i-pass-cookies-to-yt-dlp  for how to manually pass cookies. Also see  https://github.com/yt-dlp/yt-dlp/wiki/Extractors#exporting-youtube-cookies  for tips on effectively exporting YouTube cookies\n"
     ]
    },
    {
     "name": "stdout",
     "output_type": "stream",
     "text": [
      "Skipping video video7169 due to error: ERROR: [youtube] WvAtcM4vMuc: Sign in to confirm your age. This video may be inappropriate for some users. Use --cookies-from-browser or --cookies for the authentication. See  https://github.com/yt-dlp/yt-dlp/wiki/FAQ#how-do-i-pass-cookies-to-yt-dlp  for how to manually pass cookies. Also see  https://github.com/yt-dlp/yt-dlp/wiki/Extractors#exporting-youtube-cookies  for tips on effectively exporting YouTube cookies\n",
      "Video video7170 already downloaded. Skipping...\n",
      "Video video7171 already downloaded. Skipping...\n",
      "Processing video video7172...\n",
      "Downloading full video...\n",
      "[youtube] Extracting URL: https://www.youtube.com/watch?v=2vbGkmR9rXI\n",
      "[youtube] 2vbGkmR9rXI: Downloading webpage\n",
      "[youtube] 2vbGkmR9rXI: Downloading tv client config\n",
      "[youtube] 2vbGkmR9rXI: Downloading player 69f581a5\n",
      "[youtube] 2vbGkmR9rXI: Downloading tv player API JSON\n",
      "[youtube] 2vbGkmR9rXI: Downloading ios player API JSON\n"
     ]
    },
    {
     "name": "stderr",
     "output_type": "stream",
     "text": [
      "ERROR: [youtube] 2vbGkmR9rXI: Video unavailable\n"
     ]
    },
    {
     "name": "stdout",
     "output_type": "stream",
     "text": [
      "Skipping video video7172 due to error: ERROR: [youtube] 2vbGkmR9rXI: Video unavailable\n",
      "Video video7173 already downloaded. Skipping...\n",
      "Video video7174 already downloaded. Skipping...\n",
      "Processing video video7175...\n",
      "Downloading full video...\n",
      "[youtube] Extracting URL: https://www.youtube.com/watch?v=CC21NR3RkmE\n",
      "[youtube] CC21NR3RkmE: Downloading webpage\n",
      "[youtube] CC21NR3RkmE: Downloading tv client config\n",
      "[youtube] CC21NR3RkmE: Downloading player 69f581a5\n",
      "[youtube] CC21NR3RkmE: Downloading tv player API JSON\n",
      "[youtube] CC21NR3RkmE: Downloading ios player API JSON\n"
     ]
    },
    {
     "name": "stderr",
     "output_type": "stream",
     "text": [
      "ERROR: [youtube] CC21NR3RkmE: Video unavailable\n"
     ]
    },
    {
     "name": "stdout",
     "output_type": "stream",
     "text": [
      "Skipping video video7175 due to error: ERROR: [youtube] CC21NR3RkmE: Video unavailable\n",
      "Processing video video7176...\n",
      "Downloading full video...\n",
      "[youtube] Extracting URL: https://www.youtube.com/watch?v=AVIzEGGfCkY\n",
      "[youtube] AVIzEGGfCkY: Downloading webpage\n",
      "[youtube] AVIzEGGfCkY: Downloading tv client config\n",
      "[youtube] AVIzEGGfCkY: Downloading player 69f581a5\n",
      "[youtube] AVIzEGGfCkY: Downloading tv player API JSON\n",
      "[youtube] AVIzEGGfCkY: Downloading ios player API JSON\n"
     ]
    },
    {
     "name": "stderr",
     "output_type": "stream",
     "text": [
      "ERROR: [youtube] AVIzEGGfCkY: Video unavailable. This video has been removed by the uploader\n"
     ]
    },
    {
     "name": "stdout",
     "output_type": "stream",
     "text": [
      "Skipping video video7176 due to error: ERROR: [youtube] AVIzEGGfCkY: Video unavailable. This video has been removed by the uploader\n",
      "Processing video video7177...\n",
      "Downloading full video...\n",
      "[youtube] Extracting URL: https://www.youtube.com/watch?v=cf1xmjvD2-M\n",
      "[youtube] cf1xmjvD2-M: Downloading webpage\n",
      "[youtube] cf1xmjvD2-M: Downloading tv client config\n",
      "[youtube] cf1xmjvD2-M: Downloading player 69f581a5\n",
      "[youtube] cf1xmjvD2-M: Downloading tv player API JSON\n",
      "[youtube] cf1xmjvD2-M: Downloading ios player API JSON\n"
     ]
    },
    {
     "name": "stderr",
     "output_type": "stream",
     "text": [
      "ERROR: [youtube] cf1xmjvD2-M: Video unavailable. This video is no longer available because the YouTube account associated with this video has been terminated.\n"
     ]
    },
    {
     "name": "stdout",
     "output_type": "stream",
     "text": [
      "Skipping video video7177 due to error: ERROR: [youtube] cf1xmjvD2-M: Video unavailable. This video is no longer available because the YouTube account associated with this video has been terminated.\n",
      "Video video7178 already downloaded. Skipping...\n",
      "Processing video video7179...\n",
      "Downloading full video...\n",
      "[youtube] Extracting URL: https://www.youtube.com/watch?v=gPegyIe0P0s\n",
      "[youtube] gPegyIe0P0s: Downloading webpage\n",
      "[youtube] gPegyIe0P0s: Downloading tv client config\n",
      "[youtube] gPegyIe0P0s: Downloading player 69f581a5\n",
      "[youtube] gPegyIe0P0s: Downloading tv player API JSON\n",
      "[youtube] gPegyIe0P0s: Downloading ios player API JSON\n"
     ]
    },
    {
     "name": "stderr",
     "output_type": "stream",
     "text": [
      "ERROR: [youtube] gPegyIe0P0s: Video unavailable\n"
     ]
    },
    {
     "name": "stdout",
     "output_type": "stream",
     "text": [
      "Skipping video video7179 due to error: ERROR: [youtube] gPegyIe0P0s: Video unavailable\n",
      "Processing video video7200...\n",
      "Downloading full video...\n",
      "[youtube] Extracting URL: https://www.youtube.com/watch?v=-QSV6cUrINA\n",
      "[youtube] -QSV6cUrINA: Downloading webpage\n",
      "[youtube] -QSV6cUrINA: Downloading tv client config\n",
      "[youtube] -QSV6cUrINA: Downloading player 69f581a5\n",
      "[youtube] -QSV6cUrINA: Downloading tv player API JSON\n",
      "[youtube] -QSV6cUrINA: Downloading ios player API JSON\n"
     ]
    },
    {
     "name": "stderr",
     "output_type": "stream",
     "text": [
      "ERROR: [youtube] -QSV6cUrINA: Video unavailable. This video is no longer available because the YouTube account associated with this video has been terminated.\n"
     ]
    },
    {
     "name": "stdout",
     "output_type": "stream",
     "text": [
      "Skipping video video7200 due to error: ERROR: [youtube] -QSV6cUrINA: Video unavailable. This video is no longer available because the YouTube account associated with this video has been terminated.\n",
      "Processing video video7201...\n",
      "Downloading full video...\n",
      "[youtube] Extracting URL: https://www.youtube.com/watch?v=2Si23ADHeSE\n",
      "[youtube] 2Si23ADHeSE: Downloading webpage\n",
      "[youtube] 2Si23ADHeSE: Downloading tv client config\n",
      "[youtube] 2Si23ADHeSE: Downloading player 69f581a5\n",
      "[youtube] 2Si23ADHeSE: Downloading tv player API JSON\n",
      "[youtube] 2Si23ADHeSE: Downloading ios player API JSON\n"
     ]
    },
    {
     "name": "stderr",
     "output_type": "stream",
     "text": [
      "ERROR: [youtube] 2Si23ADHeSE: Video unavailable\n"
     ]
    },
    {
     "name": "stdout",
     "output_type": "stream",
     "text": [
      "Skipping video video7201 due to error: ERROR: [youtube] 2Si23ADHeSE: Video unavailable\n",
      "Video video7202 already downloaded. Skipping...\n",
      "Video video7203 already downloaded. Skipping...\n",
      "Video video7204 already downloaded. Skipping...\n",
      "Video video7205 already downloaded. Skipping...\n",
      "Processing video video7206...\n",
      "Downloading full video...\n",
      "[youtube] Extracting URL: https://www.youtube.com/watch?v=U2lZtRhc7Ww\n",
      "[youtube] U2lZtRhc7Ww: Downloading webpage\n",
      "[youtube] U2lZtRhc7Ww: Downloading tv client config\n",
      "[youtube] U2lZtRhc7Ww: Downloading player 69f581a5\n",
      "[youtube] U2lZtRhc7Ww: Downloading tv player API JSON\n",
      "[youtube] U2lZtRhc7Ww: Downloading ios player API JSON\n"
     ]
    },
    {
     "name": "stderr",
     "output_type": "stream",
     "text": [
      "ERROR: [youtube] U2lZtRhc7Ww: Sign in to confirm your age. This video may be inappropriate for some users. Use --cookies-from-browser or --cookies for the authentication. See  https://github.com/yt-dlp/yt-dlp/wiki/FAQ#how-do-i-pass-cookies-to-yt-dlp  for how to manually pass cookies. Also see  https://github.com/yt-dlp/yt-dlp/wiki/Extractors#exporting-youtube-cookies  for tips on effectively exporting YouTube cookies\n"
     ]
    },
    {
     "name": "stdout",
     "output_type": "stream",
     "text": [
      "Skipping video video7206 due to error: ERROR: [youtube] U2lZtRhc7Ww: Sign in to confirm your age. This video may be inappropriate for some users. Use --cookies-from-browser or --cookies for the authentication. See  https://github.com/yt-dlp/yt-dlp/wiki/FAQ#how-do-i-pass-cookies-to-yt-dlp  for how to manually pass cookies. Also see  https://github.com/yt-dlp/yt-dlp/wiki/Extractors#exporting-youtube-cookies  for tips on effectively exporting YouTube cookies\n",
      "Video video7207 already downloaded. Skipping...\n",
      "Video video7209 already downloaded. Skipping...\n",
      "Video video7211 already downloaded. Skipping...\n",
      "Video video7212 already downloaded. Skipping...\n",
      "Video video7213 already downloaded. Skipping...\n",
      "Video video7214 already downloaded. Skipping...\n",
      "Video video7215 already downloaded. Skipping...\n",
      "Video video7216 already downloaded. Skipping...\n",
      "Video video7217 already downloaded. Skipping...\n",
      "Processing video video7218...\n",
      "Downloading full video...\n",
      "[youtube] Extracting URL: https://www.youtube.com/watch?v=5j9gGfQh8nQ\n",
      "[youtube] 5j9gGfQh8nQ: Downloading webpage\n",
      "[youtube] 5j9gGfQh8nQ: Downloading tv client config\n",
      "[youtube] 5j9gGfQh8nQ: Downloading player 69f581a5\n",
      "[youtube] 5j9gGfQh8nQ: Downloading tv player API JSON\n",
      "[youtube] 5j9gGfQh8nQ: Downloading ios player API JSON\n"
     ]
    },
    {
     "name": "stderr",
     "output_type": "stream",
     "text": [
      "ERROR: [youtube] 5j9gGfQh8nQ: Video unavailable. This video is no longer available due to a copyright claim by Viacom inc\n"
     ]
    },
    {
     "name": "stdout",
     "output_type": "stream",
     "text": [
      "Skipping video video7218 due to error: ERROR: [youtube] 5j9gGfQh8nQ: Video unavailable. This video is no longer available due to a copyright claim by Viacom inc\n",
      "Video video7219 already downloaded. Skipping...\n",
      "Processing video video7220...\n",
      "Downloading full video...\n",
      "[youtube] Extracting URL: https://www.youtube.com/watch?v=Km7fOkpk9No\n",
      "[youtube] Km7fOkpk9No: Downloading webpage\n",
      "[youtube] Km7fOkpk9No: Downloading tv client config\n",
      "[youtube] Km7fOkpk9No: Downloading player 69f581a5\n",
      "[youtube] Km7fOkpk9No: Downloading tv player API JSON\n",
      "[youtube] Km7fOkpk9No: Downloading ios player API JSON\n"
     ]
    },
    {
     "name": "stderr",
     "output_type": "stream",
     "text": [
      "ERROR: [youtube] Km7fOkpk9No: Private video. Sign in if you've been granted access to this video. Use --cookies-from-browser or --cookies for the authentication. See  https://github.com/yt-dlp/yt-dlp/wiki/FAQ#how-do-i-pass-cookies-to-yt-dlp  for how to manually pass cookies. Also see  https://github.com/yt-dlp/yt-dlp/wiki/Extractors#exporting-youtube-cookies  for tips on effectively exporting YouTube cookies\n"
     ]
    },
    {
     "name": "stdout",
     "output_type": "stream",
     "text": [
      "Skipping video video7220 due to error: ERROR: [youtube] Km7fOkpk9No: Private video. Sign in if you've been granted access to this video. Use --cookies-from-browser or --cookies for the authentication. See  https://github.com/yt-dlp/yt-dlp/wiki/FAQ#how-do-i-pass-cookies-to-yt-dlp  for how to manually pass cookies. Also see  https://github.com/yt-dlp/yt-dlp/wiki/Extractors#exporting-youtube-cookies  for tips on effectively exporting YouTube cookies\n",
      "Video video7222 already downloaded. Skipping...\n",
      "Processing video video7223...\n",
      "Downloading full video...\n",
      "[youtube] Extracting URL: https://www.youtube.com/watch?v=xQlfam6DMjA\n",
      "[youtube] xQlfam6DMjA: Downloading webpage\n",
      "[youtube] xQlfam6DMjA: Downloading tv client config\n",
      "[youtube] xQlfam6DMjA: Downloading player 69f581a5\n"
     ]
    },
    {
     "ename": "KeyboardInterrupt",
     "evalue": "",
     "output_type": "error",
     "traceback": [
      "\u001b[1;31m---------------------------------------------------------------------------\u001b[0m",
      "\u001b[1;31mKeyboardInterrupt\u001b[0m                         Traceback (most recent call last)",
      "Cell \u001b[1;32mIn[3], line 94\u001b[0m\n\u001b[0;32m     92\u001b[0m \u001b[38;5;28mprint\u001b[39m(\u001b[38;5;124mf\u001b[39m\u001b[38;5;124m\"\u001b[39m\u001b[38;5;124mProcessing video \u001b[39m\u001b[38;5;132;01m{\u001b[39;00minstance[\u001b[38;5;124m'\u001b[39m\u001b[38;5;124mvideo_id\u001b[39m\u001b[38;5;124m'\u001b[39m]\u001b[38;5;132;01m}\u001b[39;00m\u001b[38;5;124m...\u001b[39m\u001b[38;5;124m\"\u001b[39m)\n\u001b[0;32m     93\u001b[0m \u001b[38;5;28mprint\u001b[39m(\u001b[38;5;124m\"\u001b[39m\u001b[38;5;124mDownloading full video...\u001b[39m\u001b[38;5;124m\"\u001b[39m)\n\u001b[1;32m---> 94\u001b[0m \u001b[43mdownload_video\u001b[49m\u001b[43m(\u001b[49m\u001b[43mvideo_url\u001b[49m\u001b[43m,\u001b[49m\u001b[43m \u001b[49m\u001b[43mfull_video_filepath\u001b[49m\u001b[43m)\u001b[49m\n\u001b[0;32m     96\u001b[0m \u001b[38;5;28mprint\u001b[39m(\u001b[38;5;124m\"\u001b[39m\u001b[38;5;124mTrimming video using OpenCV...\u001b[39m\u001b[38;5;124m\"\u001b[39m)\n\u001b[0;32m     97\u001b[0m trim_video_cv2(full_video_filepath, trimmed_video_filepath, start_time, end_time)\n",
      "Cell \u001b[1;32mIn[3], line 23\u001b[0m, in \u001b[0;36mdownload_video\u001b[1;34m(url, output_filepath)\u001b[0m\n\u001b[0;32m     18\u001b[0m ydl_opts \u001b[38;5;241m=\u001b[39m {\n\u001b[0;32m     19\u001b[0m     \u001b[38;5;124m'\u001b[39m\u001b[38;5;124mouttmpl\u001b[39m\u001b[38;5;124m'\u001b[39m: output_filepath,  \u001b[38;5;66;03m# Output file path template\u001b[39;00m\n\u001b[0;32m     20\u001b[0m     \u001b[38;5;124m'\u001b[39m\u001b[38;5;124mformat\u001b[39m\u001b[38;5;124m'\u001b[39m: \u001b[38;5;124m'\u001b[39m\u001b[38;5;124mmp4\u001b[39m\u001b[38;5;124m'\u001b[39m              \u001b[38;5;66;03m# Request mp4 format if available\u001b[39;00m\n\u001b[0;32m     21\u001b[0m }\n\u001b[0;32m     22\u001b[0m \u001b[38;5;28;01mwith\u001b[39;00m YoutubeDL(ydl_opts) \u001b[38;5;28;01mas\u001b[39;00m ydl:\n\u001b[1;32m---> 23\u001b[0m     \u001b[43mydl\u001b[49m\u001b[38;5;241;43m.\u001b[39;49m\u001b[43mdownload\u001b[49m\u001b[43m(\u001b[49m\u001b[43m[\u001b[49m\u001b[43murl\u001b[49m\u001b[43m]\u001b[49m\u001b[43m)\u001b[49m\n",
      "File \u001b[1;32mc:\\Users\\Adam Sachs\\AppData\\Local\\Programs\\Python\\Python312\\Lib\\site-packages\\yt_dlp\\YoutubeDL.py:3618\u001b[0m, in \u001b[0;36mYoutubeDL.download\u001b[1;34m(self, url_list)\u001b[0m\n\u001b[0;32m   3615\u001b[0m     \u001b[38;5;28;01mraise\u001b[39;00m SameFileError(outtmpl)\n\u001b[0;32m   3617\u001b[0m \u001b[38;5;28;01mfor\u001b[39;00m url \u001b[38;5;129;01min\u001b[39;00m url_list:\n\u001b[1;32m-> 3618\u001b[0m     \u001b[38;5;28;43mself\u001b[39;49m\u001b[38;5;241;43m.\u001b[39;49m\u001b[43m__download_wrapper\u001b[49m\u001b[43m(\u001b[49m\u001b[38;5;28;43mself\u001b[39;49m\u001b[38;5;241;43m.\u001b[39;49m\u001b[43mextract_info\u001b[49m\u001b[43m)\u001b[49m\u001b[43m(\u001b[49m\n\u001b[0;32m   3619\u001b[0m \u001b[43m        \u001b[49m\u001b[43murl\u001b[49m\u001b[43m,\u001b[49m\u001b[43m \u001b[49m\u001b[43mforce_generic_extractor\u001b[49m\u001b[38;5;241;43m=\u001b[39;49m\u001b[38;5;28;43mself\u001b[39;49m\u001b[38;5;241;43m.\u001b[39;49m\u001b[43mparams\u001b[49m\u001b[38;5;241;43m.\u001b[39;49m\u001b[43mget\u001b[49m\u001b[43m(\u001b[49m\u001b[38;5;124;43m'\u001b[39;49m\u001b[38;5;124;43mforce_generic_extractor\u001b[39;49m\u001b[38;5;124;43m'\u001b[39;49m\u001b[43m,\u001b[49m\u001b[43m \u001b[49m\u001b[38;5;28;43;01mFalse\u001b[39;49;00m\u001b[43m)\u001b[49m\u001b[43m)\u001b[49m\n\u001b[0;32m   3621\u001b[0m \u001b[38;5;28;01mreturn\u001b[39;00m \u001b[38;5;28mself\u001b[39m\u001b[38;5;241m.\u001b[39m_download_retcode\n",
      "File \u001b[1;32mc:\\Users\\Adam Sachs\\AppData\\Local\\Programs\\Python\\Python312\\Lib\\site-packages\\yt_dlp\\YoutubeDL.py:3591\u001b[0m, in \u001b[0;36mYoutubeDL.__download_wrapper.<locals>.wrapper\u001b[1;34m(*args, **kwargs)\u001b[0m\n\u001b[0;32m   3588\u001b[0m \u001b[38;5;129m@functools\u001b[39m\u001b[38;5;241m.\u001b[39mwraps(func)\n\u001b[0;32m   3589\u001b[0m \u001b[38;5;28;01mdef\u001b[39;00m \u001b[38;5;21mwrapper\u001b[39m(\u001b[38;5;241m*\u001b[39margs, \u001b[38;5;241m*\u001b[39m\u001b[38;5;241m*\u001b[39mkwargs):\n\u001b[0;32m   3590\u001b[0m     \u001b[38;5;28;01mtry\u001b[39;00m:\n\u001b[1;32m-> 3591\u001b[0m         res \u001b[38;5;241m=\u001b[39m \u001b[43mfunc\u001b[49m\u001b[43m(\u001b[49m\u001b[38;5;241;43m*\u001b[39;49m\u001b[43margs\u001b[49m\u001b[43m,\u001b[49m\u001b[43m \u001b[49m\u001b[38;5;241;43m*\u001b[39;49m\u001b[38;5;241;43m*\u001b[39;49m\u001b[43mkwargs\u001b[49m\u001b[43m)\u001b[49m\n\u001b[0;32m   3592\u001b[0m     \u001b[38;5;28;01mexcept\u001b[39;00m CookieLoadError:\n\u001b[0;32m   3593\u001b[0m         \u001b[38;5;28;01mraise\u001b[39;00m\n",
      "File \u001b[1;32mc:\\Users\\Adam Sachs\\AppData\\Local\\Programs\\Python\\Python312\\Lib\\site-packages\\yt_dlp\\YoutubeDL.py:1626\u001b[0m, in \u001b[0;36mYoutubeDL.extract_info\u001b[1;34m(self, url, download, ie_key, extra_info, process, force_generic_extractor)\u001b[0m\n\u001b[0;32m   1624\u001b[0m             \u001b[38;5;28;01mraise\u001b[39;00m ExistingVideoReached\n\u001b[0;32m   1625\u001b[0m         \u001b[38;5;28;01mbreak\u001b[39;00m\n\u001b[1;32m-> 1626\u001b[0m     \u001b[38;5;28;01mreturn\u001b[39;00m \u001b[38;5;28;43mself\u001b[39;49m\u001b[38;5;241;43m.\u001b[39;49m\u001b[43m__extract_info\u001b[49m\u001b[43m(\u001b[49m\u001b[43murl\u001b[49m\u001b[43m,\u001b[49m\u001b[43m \u001b[49m\u001b[38;5;28;43mself\u001b[39;49m\u001b[38;5;241;43m.\u001b[39;49m\u001b[43mget_info_extractor\u001b[49m\u001b[43m(\u001b[49m\u001b[43mkey\u001b[49m\u001b[43m)\u001b[49m\u001b[43m,\u001b[49m\u001b[43m \u001b[49m\u001b[43mdownload\u001b[49m\u001b[43m,\u001b[49m\u001b[43m \u001b[49m\u001b[43mextra_info\u001b[49m\u001b[43m,\u001b[49m\u001b[43m \u001b[49m\u001b[43mprocess\u001b[49m\u001b[43m)\u001b[49m\n\u001b[0;32m   1627\u001b[0m \u001b[38;5;28;01melse\u001b[39;00m:\n\u001b[0;32m   1628\u001b[0m     extractors_restricted \u001b[38;5;241m=\u001b[39m \u001b[38;5;28mself\u001b[39m\u001b[38;5;241m.\u001b[39mparams\u001b[38;5;241m.\u001b[39mget(\u001b[38;5;124m'\u001b[39m\u001b[38;5;124mallowed_extractors\u001b[39m\u001b[38;5;124m'\u001b[39m) \u001b[38;5;129;01mnot\u001b[39;00m \u001b[38;5;129;01min\u001b[39;00m (\u001b[38;5;28;01mNone\u001b[39;00m, [\u001b[38;5;124m'\u001b[39m\u001b[38;5;124mdefault\u001b[39m\u001b[38;5;124m'\u001b[39m])\n",
      "File \u001b[1;32mc:\\Users\\Adam Sachs\\AppData\\Local\\Programs\\Python\\Python312\\Lib\\site-packages\\yt_dlp\\YoutubeDL.py:1637\u001b[0m, in \u001b[0;36mYoutubeDL._handle_extraction_exceptions.<locals>.wrapper\u001b[1;34m(self, *args, **kwargs)\u001b[0m\n\u001b[0;32m   1635\u001b[0m \u001b[38;5;28;01mwhile\u001b[39;00m \u001b[38;5;28;01mTrue\u001b[39;00m:\n\u001b[0;32m   1636\u001b[0m     \u001b[38;5;28;01mtry\u001b[39;00m:\n\u001b[1;32m-> 1637\u001b[0m         \u001b[38;5;28;01mreturn\u001b[39;00m \u001b[43mfunc\u001b[49m\u001b[43m(\u001b[49m\u001b[38;5;28;43mself\u001b[39;49m\u001b[43m,\u001b[49m\u001b[43m \u001b[49m\u001b[38;5;241;43m*\u001b[39;49m\u001b[43margs\u001b[49m\u001b[43m,\u001b[49m\u001b[43m \u001b[49m\u001b[38;5;241;43m*\u001b[39;49m\u001b[38;5;241;43m*\u001b[39;49m\u001b[43mkwargs\u001b[49m\u001b[43m)\u001b[49m\n\u001b[0;32m   1638\u001b[0m     \u001b[38;5;28;01mexcept\u001b[39;00m (CookieLoadError, DownloadCancelled, LazyList\u001b[38;5;241m.\u001b[39mIndexError, PagedList\u001b[38;5;241m.\u001b[39mIndexError):\n\u001b[0;32m   1639\u001b[0m         \u001b[38;5;28;01mraise\u001b[39;00m\n",
      "File \u001b[1;32mc:\\Users\\Adam Sachs\\AppData\\Local\\Programs\\Python\\Python312\\Lib\\site-packages\\yt_dlp\\YoutubeDL.py:1772\u001b[0m, in \u001b[0;36mYoutubeDL.__extract_info\u001b[1;34m(self, url, ie, download, extra_info, process)\u001b[0m\n\u001b[0;32m   1769\u001b[0m \u001b[38;5;28mself\u001b[39m\u001b[38;5;241m.\u001b[39m_apply_header_cookies(url)\n\u001b[0;32m   1771\u001b[0m \u001b[38;5;28;01mtry\u001b[39;00m:\n\u001b[1;32m-> 1772\u001b[0m     ie_result \u001b[38;5;241m=\u001b[39m \u001b[43mie\u001b[49m\u001b[38;5;241;43m.\u001b[39;49m\u001b[43mextract\u001b[49m\u001b[43m(\u001b[49m\u001b[43murl\u001b[49m\u001b[43m)\u001b[49m\n\u001b[0;32m   1773\u001b[0m \u001b[38;5;28;01mexcept\u001b[39;00m UserNotLive \u001b[38;5;28;01mas\u001b[39;00m e:\n\u001b[0;32m   1774\u001b[0m     \u001b[38;5;28;01mif\u001b[39;00m process:\n",
      "File \u001b[1;32mc:\\Users\\Adam Sachs\\AppData\\Local\\Programs\\Python\\Python312\\Lib\\site-packages\\yt_dlp\\extractor\\common.py:746\u001b[0m, in \u001b[0;36mInfoExtractor.extract\u001b[1;34m(self, url)\u001b[0m\n\u001b[0;32m    743\u001b[0m \u001b[38;5;28mself\u001b[39m\u001b[38;5;241m.\u001b[39minitialize()\n\u001b[0;32m    744\u001b[0m \u001b[38;5;28mself\u001b[39m\u001b[38;5;241m.\u001b[39mto_screen(\u001b[38;5;124m'\u001b[39m\u001b[38;5;124mExtracting URL: \u001b[39m\u001b[38;5;132;01m%s\u001b[39;00m\u001b[38;5;124m'\u001b[39m \u001b[38;5;241m%\u001b[39m (\n\u001b[0;32m    745\u001b[0m     url \u001b[38;5;28;01mif\u001b[39;00m \u001b[38;5;28mself\u001b[39m\u001b[38;5;241m.\u001b[39mget_param(\u001b[38;5;124m'\u001b[39m\u001b[38;5;124mverbose\u001b[39m\u001b[38;5;124m'\u001b[39m) \u001b[38;5;28;01melse\u001b[39;00m truncate_string(url, \u001b[38;5;241m100\u001b[39m, \u001b[38;5;241m20\u001b[39m)))\n\u001b[1;32m--> 746\u001b[0m ie_result \u001b[38;5;241m=\u001b[39m \u001b[38;5;28;43mself\u001b[39;49m\u001b[38;5;241;43m.\u001b[39;49m\u001b[43m_real_extract\u001b[49m\u001b[43m(\u001b[49m\u001b[43murl\u001b[49m\u001b[43m)\u001b[49m\n\u001b[0;32m    747\u001b[0m \u001b[38;5;28;01mif\u001b[39;00m ie_result \u001b[38;5;129;01mis\u001b[39;00m \u001b[38;5;28;01mNone\u001b[39;00m:\n\u001b[0;32m    748\u001b[0m     \u001b[38;5;28;01mreturn\u001b[39;00m \u001b[38;5;28;01mNone\u001b[39;00m\n",
      "File \u001b[1;32mc:\\Users\\Adam Sachs\\AppData\\Local\\Programs\\Python\\Python312\\Lib\\site-packages\\yt_dlp\\extractor\\youtube.py:4618\u001b[0m, in \u001b[0;36mYoutubeIE._real_extract\u001b[1;34m(self, url)\u001b[0m\n\u001b[0;32m   4615\u001b[0m base_url \u001b[38;5;241m=\u001b[39m \u001b[38;5;28mself\u001b[39m\u001b[38;5;241m.\u001b[39mhttp_scheme() \u001b[38;5;241m+\u001b[39m \u001b[38;5;124m'\u001b[39m\u001b[38;5;124m//www.youtube.com/\u001b[39m\u001b[38;5;124m'\u001b[39m\n\u001b[0;32m   4616\u001b[0m webpage_url \u001b[38;5;241m=\u001b[39m base_url \u001b[38;5;241m+\u001b[39m \u001b[38;5;124m'\u001b[39m\u001b[38;5;124mwatch?v=\u001b[39m\u001b[38;5;124m'\u001b[39m \u001b[38;5;241m+\u001b[39m video_id\n\u001b[1;32m-> 4618\u001b[0m webpage, master_ytcfg, player_responses, player_url \u001b[38;5;241m=\u001b[39m \u001b[38;5;28;43mself\u001b[39;49m\u001b[38;5;241;43m.\u001b[39;49m\u001b[43m_download_player_responses\u001b[49m\u001b[43m(\u001b[49m\u001b[43murl\u001b[49m\u001b[43m,\u001b[49m\u001b[43m \u001b[49m\u001b[43msmuggled_data\u001b[49m\u001b[43m,\u001b[49m\u001b[43m \u001b[49m\u001b[43mvideo_id\u001b[49m\u001b[43m,\u001b[49m\u001b[43m \u001b[49m\u001b[43mwebpage_url\u001b[49m\u001b[43m)\u001b[49m\n\u001b[0;32m   4620\u001b[0m playability_statuses \u001b[38;5;241m=\u001b[39m traverse_obj(\n\u001b[0;32m   4621\u001b[0m     player_responses, (\u001b[38;5;241m.\u001b[39m\u001b[38;5;241m.\u001b[39m\u001b[38;5;241m.\u001b[39m, \u001b[38;5;124m'\u001b[39m\u001b[38;5;124mplayabilityStatus\u001b[39m\u001b[38;5;124m'\u001b[39m), expected_type\u001b[38;5;241m=\u001b[39m\u001b[38;5;28mdict\u001b[39m)\n\u001b[0;32m   4623\u001b[0m trailer_video_id \u001b[38;5;241m=\u001b[39m get_first(\n\u001b[0;32m   4624\u001b[0m     playability_statuses,\n\u001b[0;32m   4625\u001b[0m     (\u001b[38;5;124m'\u001b[39m\u001b[38;5;124merrorScreen\u001b[39m\u001b[38;5;124m'\u001b[39m, \u001b[38;5;124m'\u001b[39m\u001b[38;5;124mplayerLegacyDesktopYpcTrailerRenderer\u001b[39m\u001b[38;5;124m'\u001b[39m, \u001b[38;5;124m'\u001b[39m\u001b[38;5;124mtrailerVideoId\u001b[39m\u001b[38;5;124m'\u001b[39m),\n\u001b[0;32m   4626\u001b[0m     expected_type\u001b[38;5;241m=\u001b[39m\u001b[38;5;28mstr\u001b[39m)\n",
      "File \u001b[1;32mc:\\Users\\Adam Sachs\\AppData\\Local\\Programs\\Python\\Python312\\Lib\\site-packages\\yt_dlp\\extractor\\youtube.py:4582\u001b[0m, in \u001b[0;36mYoutubeIE._download_player_responses\u001b[1;34m(self, url, smuggled_data, video_id, webpage_url)\u001b[0m\n\u001b[0;32m   4578\u001b[0m     webpage \u001b[38;5;241m=\u001b[39m \u001b[38;5;28mself\u001b[39m\u001b[38;5;241m.\u001b[39m_download_webpage_with_retries(webpage_url, video_id, query\u001b[38;5;241m=\u001b[39mquery)\n\u001b[0;32m   4580\u001b[0m master_ytcfg \u001b[38;5;241m=\u001b[39m \u001b[38;5;28mself\u001b[39m\u001b[38;5;241m.\u001b[39mextract_ytcfg(video_id, webpage) \u001b[38;5;129;01mor\u001b[39;00m \u001b[38;5;28mself\u001b[39m\u001b[38;5;241m.\u001b[39m_get_default_ytcfg()\n\u001b[1;32m-> 4582\u001b[0m player_responses, player_url \u001b[38;5;241m=\u001b[39m \u001b[38;5;28;43mself\u001b[39;49m\u001b[38;5;241;43m.\u001b[39;49m\u001b[43m_extract_player_responses\u001b[49m\u001b[43m(\u001b[49m\n\u001b[0;32m   4583\u001b[0m \u001b[43m    \u001b[49m\u001b[38;5;28;43mself\u001b[39;49m\u001b[38;5;241;43m.\u001b[39;49m\u001b[43m_get_requested_clients\u001b[49m\u001b[43m(\u001b[49m\u001b[43murl\u001b[49m\u001b[43m,\u001b[49m\u001b[43m \u001b[49m\u001b[43msmuggled_data\u001b[49m\u001b[43m)\u001b[49m\u001b[43m,\u001b[49m\n\u001b[0;32m   4584\u001b[0m \u001b[43m    \u001b[49m\u001b[43mvideo_id\u001b[49m\u001b[43m,\u001b[49m\u001b[43m \u001b[49m\u001b[43mwebpage\u001b[49m\u001b[43m,\u001b[49m\u001b[43m \u001b[49m\u001b[43mmaster_ytcfg\u001b[49m\u001b[43m,\u001b[49m\u001b[43m \u001b[49m\u001b[43msmuggled_data\u001b[49m\u001b[43m)\u001b[49m\n\u001b[0;32m   4586\u001b[0m \u001b[38;5;28;01mreturn\u001b[39;00m webpage, master_ytcfg, player_responses, player_url\n",
      "File \u001b[1;32mc:\\Users\\Adam Sachs\\AppData\\Local\\Programs\\Python\\Python312\\Lib\\site-packages\\yt_dlp\\extractor\\youtube.py:4169\u001b[0m, in \u001b[0;36mYoutubeIE._extract_player_responses\u001b[1;34m(self, clients, video_id, webpage, master_ytcfg, smuggled_data)\u001b[0m\n\u001b[0;32m   4167\u001b[0m pr \u001b[38;5;241m=\u001b[39m initial_pr \u001b[38;5;28;01mif\u001b[39;00m client \u001b[38;5;241m==\u001b[39m \u001b[38;5;124m'\u001b[39m\u001b[38;5;124mweb\u001b[39m\u001b[38;5;124m'\u001b[39m \u001b[38;5;28;01melse\u001b[39;00m \u001b[38;5;28;01mNone\u001b[39;00m\n\u001b[0;32m   4168\u001b[0m \u001b[38;5;28;01mtry\u001b[39;00m:\n\u001b[1;32m-> 4169\u001b[0m     pr \u001b[38;5;241m=\u001b[39m pr \u001b[38;5;129;01mor\u001b[39;00m \u001b[38;5;28;43mself\u001b[39;49m\u001b[38;5;241;43m.\u001b[39;49m\u001b[43m_extract_player_response\u001b[49m\u001b[43m(\u001b[49m\n\u001b[0;32m   4170\u001b[0m \u001b[43m        \u001b[49m\u001b[43mclient\u001b[49m\u001b[43m,\u001b[49m\u001b[43m \u001b[49m\u001b[43mvideo_id\u001b[49m\u001b[43m,\u001b[49m\n\u001b[0;32m   4171\u001b[0m \u001b[43m        \u001b[49m\u001b[43mmaster_ytcfg\u001b[49m\u001b[38;5;241;43m=\u001b[39;49m\u001b[43mplayer_ytcfg\u001b[49m\u001b[43m \u001b[49m\u001b[38;5;129;43;01mor\u001b[39;49;00m\u001b[43m \u001b[49m\u001b[43mmaster_ytcfg\u001b[49m\u001b[43m,\u001b[49m\n\u001b[0;32m   4172\u001b[0m \u001b[43m        \u001b[49m\u001b[43mplayer_ytcfg\u001b[49m\u001b[38;5;241;43m=\u001b[39;49m\u001b[43mplayer_ytcfg\u001b[49m\u001b[43m,\u001b[49m\n\u001b[0;32m   4173\u001b[0m \u001b[43m        \u001b[49m\u001b[43mplayer_url\u001b[49m\u001b[38;5;241;43m=\u001b[39;49m\u001b[43mplayer_url\u001b[49m\u001b[43m,\u001b[49m\n\u001b[0;32m   4174\u001b[0m \u001b[43m        \u001b[49m\u001b[43minitial_pr\u001b[49m\u001b[38;5;241;43m=\u001b[39;49m\u001b[43minitial_pr\u001b[49m\u001b[43m,\u001b[49m\n\u001b[0;32m   4175\u001b[0m \u001b[43m        \u001b[49m\u001b[43mvisitor_data\u001b[49m\u001b[38;5;241;43m=\u001b[39;49m\u001b[43mvisitor_data\u001b[49m\u001b[43m,\u001b[49m\n\u001b[0;32m   4176\u001b[0m \u001b[43m        \u001b[49m\u001b[43mdata_sync_id\u001b[49m\u001b[38;5;241;43m=\u001b[39;49m\u001b[43mdata_sync_id\u001b[49m\u001b[43m,\u001b[49m\n\u001b[0;32m   4177\u001b[0m \u001b[43m        \u001b[49m\u001b[43mpo_token\u001b[49m\u001b[38;5;241;43m=\u001b[39;49m\u001b[43mplayer_po_token\u001b[49m\u001b[43m)\u001b[49m\n\u001b[0;32m   4178\u001b[0m \u001b[38;5;28;01mexcept\u001b[39;00m ExtractorError \u001b[38;5;28;01mas\u001b[39;00m e:\n\u001b[0;32m   4179\u001b[0m     \u001b[38;5;28mself\u001b[39m\u001b[38;5;241m.\u001b[39mreport_warning(e)\n",
      "File \u001b[1;32mc:\\Users\\Adam Sachs\\AppData\\Local\\Programs\\Python\\Python312\\Lib\\site-packages\\yt_dlp\\extractor\\youtube.py:4019\u001b[0m, in \u001b[0;36mYoutubeIE._extract_player_response\u001b[1;34m(self, client, video_id, master_ytcfg, player_ytcfg, player_url, initial_pr, visitor_data, data_sync_id, po_token)\u001b[0m\n\u001b[0;32m   4016\u001b[0m \u001b[38;5;28;01mif\u001b[39;00m po_token:\n\u001b[0;32m   4017\u001b[0m     yt_query[\u001b[38;5;124m'\u001b[39m\u001b[38;5;124mserviceIntegrityDimensions\u001b[39m\u001b[38;5;124m'\u001b[39m] \u001b[38;5;241m=\u001b[39m {\u001b[38;5;124m'\u001b[39m\u001b[38;5;124mpoToken\u001b[39m\u001b[38;5;124m'\u001b[39m: po_token}\n\u001b[1;32m-> 4019\u001b[0m sts \u001b[38;5;241m=\u001b[39m \u001b[38;5;28;43mself\u001b[39;49m\u001b[38;5;241;43m.\u001b[39;49m\u001b[43m_extract_signature_timestamp\u001b[49m\u001b[43m(\u001b[49m\u001b[43mvideo_id\u001b[49m\u001b[43m,\u001b[49m\u001b[43m \u001b[49m\u001b[43mplayer_url\u001b[49m\u001b[43m,\u001b[49m\u001b[43m \u001b[49m\u001b[43mmaster_ytcfg\u001b[49m\u001b[43m,\u001b[49m\u001b[43m \u001b[49m\u001b[43mfatal\u001b[49m\u001b[38;5;241;43m=\u001b[39;49m\u001b[38;5;28;43;01mFalse\u001b[39;49;00m\u001b[43m)\u001b[49m \u001b[38;5;28;01mif\u001b[39;00m player_url \u001b[38;5;28;01melse\u001b[39;00m \u001b[38;5;28;01mNone\u001b[39;00m\n\u001b[0;32m   4020\u001b[0m yt_query\u001b[38;5;241m.\u001b[39mupdate(\u001b[38;5;28mself\u001b[39m\u001b[38;5;241m.\u001b[39m_generate_player_context(sts))\n\u001b[0;32m   4021\u001b[0m \u001b[38;5;28;01mreturn\u001b[39;00m \u001b[38;5;28mself\u001b[39m\u001b[38;5;241m.\u001b[39m_extract_response(\n\u001b[0;32m   4022\u001b[0m     item_id\u001b[38;5;241m=\u001b[39mvideo_id, ep\u001b[38;5;241m=\u001b[39m\u001b[38;5;124m'\u001b[39m\u001b[38;5;124mplayer\u001b[39m\u001b[38;5;124m'\u001b[39m, query\u001b[38;5;241m=\u001b[39myt_query,\n\u001b[0;32m   4023\u001b[0m     ytcfg\u001b[38;5;241m=\u001b[39mplayer_ytcfg, headers\u001b[38;5;241m=\u001b[39mheaders, fatal\u001b[38;5;241m=\u001b[39m\u001b[38;5;28;01mTrue\u001b[39;00m,\n\u001b[0;32m   4024\u001b[0m     default_client\u001b[38;5;241m=\u001b[39mclient,\n\u001b[0;32m   4025\u001b[0m     note\u001b[38;5;241m=\u001b[39m\u001b[38;5;124m'\u001b[39m\u001b[38;5;124mDownloading \u001b[39m\u001b[38;5;132;01m{}\u001b[39;00m\u001b[38;5;124m player API JSON\u001b[39m\u001b[38;5;124m'\u001b[39m\u001b[38;5;241m.\u001b[39mformat(client\u001b[38;5;241m.\u001b[39mreplace(\u001b[38;5;124m'\u001b[39m\u001b[38;5;124m_\u001b[39m\u001b[38;5;124m'\u001b[39m, \u001b[38;5;124m'\u001b[39m\u001b[38;5;124m \u001b[39m\u001b[38;5;124m'\u001b[39m)\u001b[38;5;241m.\u001b[39mstrip()),\n\u001b[0;32m   4026\u001b[0m ) \u001b[38;5;129;01mor\u001b[39;00m \u001b[38;5;28;01mNone\u001b[39;00m\n",
      "File \u001b[1;32mc:\\Users\\Adam Sachs\\AppData\\Local\\Programs\\Python\\Python312\\Lib\\site-packages\\yt_dlp\\extractor\\youtube.py:3440\u001b[0m, in \u001b[0;36mYoutubeIE._extract_signature_timestamp\u001b[1;34m(self, video_id, player_url, ytcfg, fatal)\u001b[0m\n\u001b[0;32m   3438\u001b[0m     \u001b[38;5;28mself\u001b[39m\u001b[38;5;241m.\u001b[39mreport_warning(error_msg)\n\u001b[0;32m   3439\u001b[0m     \u001b[38;5;28;01mreturn\u001b[39;00m\n\u001b[1;32m-> 3440\u001b[0m code \u001b[38;5;241m=\u001b[39m \u001b[38;5;28;43mself\u001b[39;49m\u001b[38;5;241;43m.\u001b[39;49m\u001b[43m_load_player\u001b[49m\u001b[43m(\u001b[49m\u001b[43mvideo_id\u001b[49m\u001b[43m,\u001b[49m\u001b[43m \u001b[49m\u001b[43mplayer_url\u001b[49m\u001b[43m,\u001b[49m\u001b[43m \u001b[49m\u001b[43mfatal\u001b[49m\u001b[38;5;241;43m=\u001b[39;49m\u001b[43mfatal\u001b[49m\u001b[43m)\u001b[49m\n\u001b[0;32m   3441\u001b[0m \u001b[38;5;28;01mif\u001b[39;00m code:\n\u001b[0;32m   3442\u001b[0m     sts \u001b[38;5;241m=\u001b[39m int_or_none(\u001b[38;5;28mself\u001b[39m\u001b[38;5;241m.\u001b[39m_search_regex(\n\u001b[0;32m   3443\u001b[0m         \u001b[38;5;124mr\u001b[39m\u001b[38;5;124m'\u001b[39m\u001b[38;5;124m(?:signatureTimestamp|sts)\u001b[39m\u001b[38;5;124m\\\u001b[39m\u001b[38;5;124ms*:\u001b[39m\u001b[38;5;124m\\\u001b[39m\u001b[38;5;124ms*(?P<sts>[0-9]\u001b[39m\u001b[38;5;132;01m{5}\u001b[39;00m\u001b[38;5;124m)\u001b[39m\u001b[38;5;124m'\u001b[39m, code,\n\u001b[0;32m   3444\u001b[0m         \u001b[38;5;124m'\u001b[39m\u001b[38;5;124mJS player signature timestamp\u001b[39m\u001b[38;5;124m'\u001b[39m, group\u001b[38;5;241m=\u001b[39m\u001b[38;5;124m'\u001b[39m\u001b[38;5;124msts\u001b[39m\u001b[38;5;124m'\u001b[39m, fatal\u001b[38;5;241m=\u001b[39mfatal))\n",
      "File \u001b[1;32mc:\\Users\\Adam Sachs\\AppData\\Local\\Programs\\Python\\Python312\\Lib\\site-packages\\yt_dlp\\extractor\\youtube.py:3186\u001b[0m, in \u001b[0;36mYoutubeIE._load_player\u001b[1;34m(self, video_id, player_url, fatal)\u001b[0m\n\u001b[0;32m   3184\u001b[0m player_id \u001b[38;5;241m=\u001b[39m \u001b[38;5;28mself\u001b[39m\u001b[38;5;241m.\u001b[39m_extract_player_info(player_url)\n\u001b[0;32m   3185\u001b[0m \u001b[38;5;28;01mif\u001b[39;00m player_id \u001b[38;5;129;01mnot\u001b[39;00m \u001b[38;5;129;01min\u001b[39;00m \u001b[38;5;28mself\u001b[39m\u001b[38;5;241m.\u001b[39m_code_cache:\n\u001b[1;32m-> 3186\u001b[0m     code \u001b[38;5;241m=\u001b[39m \u001b[38;5;28;43mself\u001b[39;49m\u001b[38;5;241;43m.\u001b[39;49m\u001b[43m_download_webpage\u001b[49m\u001b[43m(\u001b[49m\n\u001b[0;32m   3187\u001b[0m \u001b[43m        \u001b[49m\u001b[43mplayer_url\u001b[49m\u001b[43m,\u001b[49m\u001b[43m \u001b[49m\u001b[43mvideo_id\u001b[49m\u001b[43m,\u001b[49m\u001b[43m \u001b[49m\u001b[43mfatal\u001b[49m\u001b[38;5;241;43m=\u001b[39;49m\u001b[43mfatal\u001b[49m\u001b[43m,\u001b[49m\n\u001b[0;32m   3188\u001b[0m \u001b[43m        \u001b[49m\u001b[43mnote\u001b[49m\u001b[38;5;241;43m=\u001b[39;49m\u001b[38;5;124;43m'\u001b[39;49m\u001b[38;5;124;43mDownloading player \u001b[39;49m\u001b[38;5;124;43m'\u001b[39;49m\u001b[43m \u001b[49m\u001b[38;5;241;43m+\u001b[39;49m\u001b[43m \u001b[49m\u001b[43mplayer_id\u001b[49m\u001b[43m,\u001b[49m\n\u001b[0;32m   3189\u001b[0m \u001b[43m        \u001b[49m\u001b[43merrnote\u001b[49m\u001b[38;5;241;43m=\u001b[39;49m\u001b[38;5;124;43mf\u001b[39;49m\u001b[38;5;124;43m'\u001b[39;49m\u001b[38;5;124;43mDownload of \u001b[39;49m\u001b[38;5;132;43;01m{\u001b[39;49;00m\u001b[43mplayer_url\u001b[49m\u001b[38;5;132;43;01m}\u001b[39;49;00m\u001b[38;5;124;43m failed\u001b[39;49m\u001b[38;5;124;43m'\u001b[39;49m\u001b[43m)\u001b[49m\n\u001b[0;32m   3190\u001b[0m     \u001b[38;5;28;01mif\u001b[39;00m code:\n\u001b[0;32m   3191\u001b[0m         \u001b[38;5;28mself\u001b[39m\u001b[38;5;241m.\u001b[39m_code_cache[player_id] \u001b[38;5;241m=\u001b[39m code\n",
      "File \u001b[1;32mc:\\Users\\Adam Sachs\\AppData\\Local\\Programs\\Python\\Python312\\Lib\\site-packages\\yt_dlp\\extractor\\common.py:1192\u001b[0m, in \u001b[0;36mInfoExtractor._download_webpage\u001b[1;34m(self, url_or_request, video_id, note, errnote, fatal, tries, timeout, *args, **kwargs)\u001b[0m\n\u001b[0;32m   1190\u001b[0m \u001b[38;5;28;01mwhile\u001b[39;00m \u001b[38;5;28;01mTrue\u001b[39;00m:\n\u001b[0;32m   1191\u001b[0m     \u001b[38;5;28;01mtry\u001b[39;00m:\n\u001b[1;32m-> 1192\u001b[0m         \u001b[38;5;28;01mreturn\u001b[39;00m \u001b[38;5;28;43mself\u001b[39;49m\u001b[38;5;241;43m.\u001b[39;49m\u001b[43m__download_webpage\u001b[49m\u001b[43m(\u001b[49m\u001b[43murl_or_request\u001b[49m\u001b[43m,\u001b[49m\u001b[43m \u001b[49m\u001b[43mvideo_id\u001b[49m\u001b[43m,\u001b[49m\u001b[43m \u001b[49m\u001b[43mnote\u001b[49m\u001b[43m,\u001b[49m\u001b[43m \u001b[49m\u001b[43merrnote\u001b[49m\u001b[43m,\u001b[49m\u001b[43m \u001b[49m\u001b[38;5;28;43;01mNone\u001b[39;49;00m\u001b[43m,\u001b[49m\u001b[43m \u001b[49m\u001b[43mfatal\u001b[49m\u001b[43m,\u001b[49m\u001b[43m \u001b[49m\u001b[38;5;241;43m*\u001b[39;49m\u001b[43margs\u001b[49m\u001b[43m,\u001b[49m\u001b[43m \u001b[49m\u001b[38;5;241;43m*\u001b[39;49m\u001b[38;5;241;43m*\u001b[39;49m\u001b[43mkwargs\u001b[49m\u001b[43m)\u001b[49m\n\u001b[0;32m   1193\u001b[0m     \u001b[38;5;28;01mexcept\u001b[39;00m IncompleteRead \u001b[38;5;28;01mas\u001b[39;00m e:\n\u001b[0;32m   1194\u001b[0m         try_count \u001b[38;5;241m+\u001b[39m\u001b[38;5;241m=\u001b[39m \u001b[38;5;241m1\u001b[39m\n",
      "File \u001b[1;32mc:\\Users\\Adam Sachs\\AppData\\Local\\Programs\\Python\\Python312\\Lib\\site-packages\\yt_dlp\\extractor\\common.py:1143\u001b[0m, in \u001b[0;36mInfoExtractor.__create_download_methods.<locals>.download_content\u001b[1;34m(self, url_or_request, video_id, note, errnote, transform_source, fatal, encoding, data, headers, query, expected_status, impersonate, require_impersonation)\u001b[0m\n\u001b[0;32m   1141\u001b[0m     kwargs\u001b[38;5;241m.\u001b[39mpop(\u001b[38;5;124m'\u001b[39m\u001b[38;5;124mtransform_source\u001b[39m\u001b[38;5;124m'\u001b[39m)\n\u001b[0;32m   1142\u001b[0m \u001b[38;5;66;03m# The method is fetched by name so subclasses can override _download_..._handle\u001b[39;00m\n\u001b[1;32m-> 1143\u001b[0m res \u001b[38;5;241m=\u001b[39m \u001b[38;5;28;43mgetattr\u001b[39;49m\u001b[43m(\u001b[49m\u001b[38;5;28;43mself\u001b[39;49m\u001b[43m,\u001b[49m\u001b[43m \u001b[49m\u001b[43mdownload_handle\u001b[49m\u001b[38;5;241;43m.\u001b[39;49m\u001b[38;5;18;43m__name__\u001b[39;49m\u001b[43m)\u001b[49m\u001b[43m(\u001b[49m\u001b[43murl_or_request\u001b[49m\u001b[43m,\u001b[49m\u001b[43m \u001b[49m\u001b[43mvideo_id\u001b[49m\u001b[43m,\u001b[49m\u001b[43m \u001b[49m\u001b[38;5;241;43m*\u001b[39;49m\u001b[38;5;241;43m*\u001b[39;49m\u001b[43mkwargs\u001b[49m\u001b[43m)\u001b[49m\n\u001b[0;32m   1144\u001b[0m \u001b[38;5;28;01mreturn\u001b[39;00m res \u001b[38;5;28;01mif\u001b[39;00m res \u001b[38;5;129;01mis\u001b[39;00m \u001b[38;5;28;01mFalse\u001b[39;00m \u001b[38;5;28;01melse\u001b[39;00m res[\u001b[38;5;241m0\u001b[39m]\n",
      "File \u001b[1;32mc:\\Users\\Adam Sachs\\AppData\\Local\\Programs\\Python\\Python312\\Lib\\site-packages\\yt_dlp\\extractor\\common.py:972\u001b[0m, in \u001b[0;36mInfoExtractor._download_webpage_handle\u001b[1;34m(self, url_or_request, video_id, note, errnote, fatal, encoding, data, headers, query, expected_status, impersonate, require_impersonation)\u001b[0m\n\u001b[0;32m    970\u001b[0m     \u001b[38;5;28;01massert\u001b[39;00m \u001b[38;5;129;01mnot\u001b[39;00m fatal\n\u001b[0;32m    971\u001b[0m     \u001b[38;5;28;01mreturn\u001b[39;00m \u001b[38;5;28;01mFalse\u001b[39;00m\n\u001b[1;32m--> 972\u001b[0m content \u001b[38;5;241m=\u001b[39m \u001b[38;5;28;43mself\u001b[39;49m\u001b[38;5;241;43m.\u001b[39;49m\u001b[43m_webpage_read_content\u001b[49m\u001b[43m(\u001b[49m\u001b[43murlh\u001b[49m\u001b[43m,\u001b[49m\u001b[43m \u001b[49m\u001b[43murl_or_request\u001b[49m\u001b[43m,\u001b[49m\u001b[43m \u001b[49m\u001b[43mvideo_id\u001b[49m\u001b[43m,\u001b[49m\u001b[43m \u001b[49m\u001b[43mnote\u001b[49m\u001b[43m,\u001b[49m\u001b[43m \u001b[49m\u001b[43merrnote\u001b[49m\u001b[43m,\u001b[49m\u001b[43m \u001b[49m\u001b[43mfatal\u001b[49m\u001b[43m,\u001b[49m\n\u001b[0;32m    973\u001b[0m \u001b[43m                                     \u001b[49m\u001b[43mencoding\u001b[49m\u001b[38;5;241;43m=\u001b[39;49m\u001b[43mencoding\u001b[49m\u001b[43m,\u001b[49m\u001b[43m \u001b[49m\u001b[43mdata\u001b[49m\u001b[38;5;241;43m=\u001b[39;49m\u001b[43mdata\u001b[49m\u001b[43m)\u001b[49m\n\u001b[0;32m    974\u001b[0m \u001b[38;5;28;01mif\u001b[39;00m content \u001b[38;5;129;01mis\u001b[39;00m \u001b[38;5;28;01mFalse\u001b[39;00m:\n\u001b[0;32m    975\u001b[0m     \u001b[38;5;28;01massert\u001b[39;00m \u001b[38;5;129;01mnot\u001b[39;00m fatal\n",
      "File \u001b[1;32mc:\\Users\\Adam Sachs\\AppData\\Local\\Programs\\Python\\Python312\\Lib\\site-packages\\yt_dlp\\extractor\\common.py:1035\u001b[0m, in \u001b[0;36mInfoExtractor._webpage_read_content\u001b[1;34m(self, urlh, url_or_request, video_id, note, errnote, fatal, prefix, encoding, data)\u001b[0m\n\u001b[0;32m   1032\u001b[0m \u001b[38;5;28;01mdef\u001b[39;00m \u001b[38;5;21m_webpage_read_content\u001b[39m(\u001b[38;5;28mself\u001b[39m, urlh, url_or_request, video_id, note\u001b[38;5;241m=\u001b[39m\u001b[38;5;28;01mNone\u001b[39;00m, errnote\u001b[38;5;241m=\u001b[39m\u001b[38;5;28;01mNone\u001b[39;00m, fatal\u001b[38;5;241m=\u001b[39m\u001b[38;5;28;01mTrue\u001b[39;00m,\n\u001b[0;32m   1033\u001b[0m                           prefix\u001b[38;5;241m=\u001b[39m\u001b[38;5;28;01mNone\u001b[39;00m, encoding\u001b[38;5;241m=\u001b[39m\u001b[38;5;28;01mNone\u001b[39;00m, data\u001b[38;5;241m=\u001b[39m\u001b[38;5;28;01mNone\u001b[39;00m):\n\u001b[0;32m   1034\u001b[0m     \u001b[38;5;28;01mtry\u001b[39;00m:\n\u001b[1;32m-> 1035\u001b[0m         webpage_bytes \u001b[38;5;241m=\u001b[39m \u001b[43murlh\u001b[49m\u001b[38;5;241;43m.\u001b[39;49m\u001b[43mread\u001b[49m\u001b[43m(\u001b[49m\u001b[43m)\u001b[49m\n\u001b[0;32m   1036\u001b[0m     \u001b[38;5;28;01mexcept\u001b[39;00m TransportError \u001b[38;5;28;01mas\u001b[39;00m err:\n\u001b[0;32m   1037\u001b[0m         errmsg \u001b[38;5;241m=\u001b[39m \u001b[38;5;124mf\u001b[39m\u001b[38;5;124m'\u001b[39m\u001b[38;5;132;01m{\u001b[39;00mvideo_id\u001b[38;5;132;01m}\u001b[39;00m\u001b[38;5;124m: Error reading response: \u001b[39m\u001b[38;5;132;01m{\u001b[39;00merr\u001b[38;5;241m.\u001b[39mmsg\u001b[38;5;132;01m}\u001b[39;00m\u001b[38;5;124m'\u001b[39m\n",
      "File \u001b[1;32mc:\\Users\\Adam Sachs\\AppData\\Local\\Programs\\Python\\Python312\\Lib\\site-packages\\yt_dlp\\networking\\_requests.py:143\u001b[0m, in \u001b[0;36mRequestsResponseAdapter.read\u001b[1;34m(self, amt)\u001b[0m\n\u001b[0;32m    140\u001b[0m \u001b[38;5;28;01mdef\u001b[39;00m \u001b[38;5;21mread\u001b[39m(\u001b[38;5;28mself\u001b[39m, amt: \u001b[38;5;28mint\u001b[39m \u001b[38;5;241m|\u001b[39m \u001b[38;5;28;01mNone\u001b[39;00m \u001b[38;5;241m=\u001b[39m \u001b[38;5;28;01mNone\u001b[39;00m):\n\u001b[0;32m    141\u001b[0m     \u001b[38;5;28;01mtry\u001b[39;00m:\n\u001b[0;32m    142\u001b[0m         \u001b[38;5;66;03m# Interact with urllib3 response directly.\u001b[39;00m\n\u001b[1;32m--> 143\u001b[0m         \u001b[38;5;28;01mreturn\u001b[39;00m \u001b[38;5;28;43mself\u001b[39;49m\u001b[38;5;241;43m.\u001b[39;49m\u001b[43mfp\u001b[49m\u001b[38;5;241;43m.\u001b[39;49m\u001b[43mread\u001b[49m\u001b[43m(\u001b[49m\u001b[43mamt\u001b[49m\u001b[43m,\u001b[49m\u001b[43m \u001b[49m\u001b[43mdecode_content\u001b[49m\u001b[38;5;241;43m=\u001b[39;49m\u001b[38;5;28;43;01mTrue\u001b[39;49;00m\u001b[43m)\u001b[49m\n\u001b[0;32m    145\u001b[0m     \u001b[38;5;66;03m# See urllib3.response.HTTPResponse.read() for exceptions raised on read\u001b[39;00m\n\u001b[0;32m    146\u001b[0m     \u001b[38;5;28;01mexcept\u001b[39;00m urllib3\u001b[38;5;241m.\u001b[39mexceptions\u001b[38;5;241m.\u001b[39mSSLError \u001b[38;5;28;01mas\u001b[39;00m e:\n",
      "File \u001b[1;32mc:\\Users\\Adam Sachs\\AppData\\Local\\Programs\\Python\\Python312\\Lib\\site-packages\\urllib3\\response.py:955\u001b[0m, in \u001b[0;36mHTTPResponse.read\u001b[1;34m(self, amt, decode_content, cache_content)\u001b[0m\n\u001b[0;32m    952\u001b[0m     \u001b[38;5;28;01mif\u001b[39;00m \u001b[38;5;28mlen\u001b[39m(\u001b[38;5;28mself\u001b[39m\u001b[38;5;241m.\u001b[39m_decoded_buffer) \u001b[38;5;241m>\u001b[39m\u001b[38;5;241m=\u001b[39m amt:\n\u001b[0;32m    953\u001b[0m         \u001b[38;5;28;01mreturn\u001b[39;00m \u001b[38;5;28mself\u001b[39m\u001b[38;5;241m.\u001b[39m_decoded_buffer\u001b[38;5;241m.\u001b[39mget(amt)\n\u001b[1;32m--> 955\u001b[0m data \u001b[38;5;241m=\u001b[39m \u001b[38;5;28;43mself\u001b[39;49m\u001b[38;5;241;43m.\u001b[39;49m\u001b[43m_raw_read\u001b[49m\u001b[43m(\u001b[49m\u001b[43mamt\u001b[49m\u001b[43m)\u001b[49m\n\u001b[0;32m    957\u001b[0m flush_decoder \u001b[38;5;241m=\u001b[39m amt \u001b[38;5;129;01mis\u001b[39;00m \u001b[38;5;28;01mNone\u001b[39;00m \u001b[38;5;129;01mor\u001b[39;00m (amt \u001b[38;5;241m!=\u001b[39m \u001b[38;5;241m0\u001b[39m \u001b[38;5;129;01mand\u001b[39;00m \u001b[38;5;129;01mnot\u001b[39;00m data)\n\u001b[0;32m    959\u001b[0m \u001b[38;5;28;01mif\u001b[39;00m \u001b[38;5;129;01mnot\u001b[39;00m data \u001b[38;5;129;01mand\u001b[39;00m \u001b[38;5;28mlen\u001b[39m(\u001b[38;5;28mself\u001b[39m\u001b[38;5;241m.\u001b[39m_decoded_buffer) \u001b[38;5;241m==\u001b[39m \u001b[38;5;241m0\u001b[39m:\n",
      "File \u001b[1;32mc:\\Users\\Adam Sachs\\AppData\\Local\\Programs\\Python\\Python312\\Lib\\site-packages\\urllib3\\response.py:879\u001b[0m, in \u001b[0;36mHTTPResponse._raw_read\u001b[1;34m(self, amt, read1)\u001b[0m\n\u001b[0;32m    876\u001b[0m fp_closed \u001b[38;5;241m=\u001b[39m \u001b[38;5;28mgetattr\u001b[39m(\u001b[38;5;28mself\u001b[39m\u001b[38;5;241m.\u001b[39m_fp, \u001b[38;5;124m\"\u001b[39m\u001b[38;5;124mclosed\u001b[39m\u001b[38;5;124m\"\u001b[39m, \u001b[38;5;28;01mFalse\u001b[39;00m)\n\u001b[0;32m    878\u001b[0m \u001b[38;5;28;01mwith\u001b[39;00m \u001b[38;5;28mself\u001b[39m\u001b[38;5;241m.\u001b[39m_error_catcher():\n\u001b[1;32m--> 879\u001b[0m     data \u001b[38;5;241m=\u001b[39m \u001b[38;5;28;43mself\u001b[39;49m\u001b[38;5;241;43m.\u001b[39;49m\u001b[43m_fp_read\u001b[49m\u001b[43m(\u001b[49m\u001b[43mamt\u001b[49m\u001b[43m,\u001b[49m\u001b[43m \u001b[49m\u001b[43mread1\u001b[49m\u001b[38;5;241;43m=\u001b[39;49m\u001b[43mread1\u001b[49m\u001b[43m)\u001b[49m \u001b[38;5;28;01mif\u001b[39;00m \u001b[38;5;129;01mnot\u001b[39;00m fp_closed \u001b[38;5;28;01melse\u001b[39;00m \u001b[38;5;124mb\u001b[39m\u001b[38;5;124m\"\u001b[39m\u001b[38;5;124m\"\u001b[39m\n\u001b[0;32m    880\u001b[0m     \u001b[38;5;28;01mif\u001b[39;00m amt \u001b[38;5;129;01mis\u001b[39;00m \u001b[38;5;129;01mnot\u001b[39;00m \u001b[38;5;28;01mNone\u001b[39;00m \u001b[38;5;129;01mand\u001b[39;00m amt \u001b[38;5;241m!=\u001b[39m \u001b[38;5;241m0\u001b[39m \u001b[38;5;129;01mand\u001b[39;00m \u001b[38;5;129;01mnot\u001b[39;00m data:\n\u001b[0;32m    881\u001b[0m         \u001b[38;5;66;03m# Platform-specific: Buggy versions of Python.\u001b[39;00m\n\u001b[0;32m    882\u001b[0m         \u001b[38;5;66;03m# Close the connection when no data is returned\u001b[39;00m\n\u001b[1;32m   (...)\u001b[0m\n\u001b[0;32m    887\u001b[0m         \u001b[38;5;66;03m# not properly close the connection in all cases. There is\u001b[39;00m\n\u001b[0;32m    888\u001b[0m         \u001b[38;5;66;03m# no harm in redundantly calling close.\u001b[39;00m\n\u001b[0;32m    889\u001b[0m         \u001b[38;5;28mself\u001b[39m\u001b[38;5;241m.\u001b[39m_fp\u001b[38;5;241m.\u001b[39mclose()\n",
      "File \u001b[1;32mc:\\Users\\Adam Sachs\\AppData\\Local\\Programs\\Python\\Python312\\Lib\\site-packages\\urllib3\\response.py:862\u001b[0m, in \u001b[0;36mHTTPResponse._fp_read\u001b[1;34m(self, amt, read1)\u001b[0m\n\u001b[0;32m    859\u001b[0m     \u001b[38;5;28;01mreturn\u001b[39;00m \u001b[38;5;28mself\u001b[39m\u001b[38;5;241m.\u001b[39m_fp\u001b[38;5;241m.\u001b[39mread1(amt) \u001b[38;5;28;01mif\u001b[39;00m amt \u001b[38;5;129;01mis\u001b[39;00m \u001b[38;5;129;01mnot\u001b[39;00m \u001b[38;5;28;01mNone\u001b[39;00m \u001b[38;5;28;01melse\u001b[39;00m \u001b[38;5;28mself\u001b[39m\u001b[38;5;241m.\u001b[39m_fp\u001b[38;5;241m.\u001b[39mread1()\n\u001b[0;32m    860\u001b[0m \u001b[38;5;28;01melse\u001b[39;00m:\n\u001b[0;32m    861\u001b[0m     \u001b[38;5;66;03m# StringIO doesn't like amt=None\u001b[39;00m\n\u001b[1;32m--> 862\u001b[0m     \u001b[38;5;28;01mreturn\u001b[39;00m \u001b[38;5;28mself\u001b[39m\u001b[38;5;241m.\u001b[39m_fp\u001b[38;5;241m.\u001b[39mread(amt) \u001b[38;5;28;01mif\u001b[39;00m amt \u001b[38;5;129;01mis\u001b[39;00m \u001b[38;5;129;01mnot\u001b[39;00m \u001b[38;5;28;01mNone\u001b[39;00m \u001b[38;5;28;01melse\u001b[39;00m \u001b[38;5;28;43mself\u001b[39;49m\u001b[38;5;241;43m.\u001b[39;49m\u001b[43m_fp\u001b[49m\u001b[38;5;241;43m.\u001b[39;49m\u001b[43mread\u001b[49m\u001b[43m(\u001b[49m\u001b[43m)\u001b[49m\n",
      "File \u001b[1;32mc:\\Users\\Adam Sachs\\AppData\\Local\\Programs\\Python\\Python312\\Lib\\http\\client.py:488\u001b[0m, in \u001b[0;36mHTTPResponse.read\u001b[1;34m(self, amt)\u001b[0m\n\u001b[0;32m    486\u001b[0m \u001b[38;5;28;01melse\u001b[39;00m:\n\u001b[0;32m    487\u001b[0m     \u001b[38;5;28;01mtry\u001b[39;00m:\n\u001b[1;32m--> 488\u001b[0m         s \u001b[38;5;241m=\u001b[39m \u001b[38;5;28;43mself\u001b[39;49m\u001b[38;5;241;43m.\u001b[39;49m\u001b[43m_safe_read\u001b[49m\u001b[43m(\u001b[49m\u001b[38;5;28;43mself\u001b[39;49m\u001b[38;5;241;43m.\u001b[39;49m\u001b[43mlength\u001b[49m\u001b[43m)\u001b[49m\n\u001b[0;32m    489\u001b[0m     \u001b[38;5;28;01mexcept\u001b[39;00m IncompleteRead:\n\u001b[0;32m    490\u001b[0m         \u001b[38;5;28mself\u001b[39m\u001b[38;5;241m.\u001b[39m_close_conn()\n",
      "File \u001b[1;32mc:\\Users\\Adam Sachs\\AppData\\Local\\Programs\\Python\\Python312\\Lib\\http\\client.py:633\u001b[0m, in \u001b[0;36mHTTPResponse._safe_read\u001b[1;34m(self, amt)\u001b[0m\n\u001b[0;32m    626\u001b[0m \u001b[38;5;28;01mdef\u001b[39;00m \u001b[38;5;21m_safe_read\u001b[39m(\u001b[38;5;28mself\u001b[39m, amt):\n\u001b[0;32m    627\u001b[0m \u001b[38;5;250m    \u001b[39m\u001b[38;5;124;03m\"\"\"Read the number of bytes requested.\u001b[39;00m\n\u001b[0;32m    628\u001b[0m \n\u001b[0;32m    629\u001b[0m \u001b[38;5;124;03m    This function should be used when <amt> bytes \"should\" be present for\u001b[39;00m\n\u001b[0;32m    630\u001b[0m \u001b[38;5;124;03m    reading. If the bytes are truly not available (due to EOF), then the\u001b[39;00m\n\u001b[0;32m    631\u001b[0m \u001b[38;5;124;03m    IncompleteRead exception can be used to detect the problem.\u001b[39;00m\n\u001b[0;32m    632\u001b[0m \u001b[38;5;124;03m    \"\"\"\u001b[39;00m\n\u001b[1;32m--> 633\u001b[0m     data \u001b[38;5;241m=\u001b[39m \u001b[38;5;28;43mself\u001b[39;49m\u001b[38;5;241;43m.\u001b[39;49m\u001b[43mfp\u001b[49m\u001b[38;5;241;43m.\u001b[39;49m\u001b[43mread\u001b[49m\u001b[43m(\u001b[49m\u001b[43mamt\u001b[49m\u001b[43m)\u001b[49m\n\u001b[0;32m    634\u001b[0m     \u001b[38;5;28;01mif\u001b[39;00m \u001b[38;5;28mlen\u001b[39m(data) \u001b[38;5;241m<\u001b[39m amt:\n\u001b[0;32m    635\u001b[0m         \u001b[38;5;28;01mraise\u001b[39;00m IncompleteRead(data, amt\u001b[38;5;241m-\u001b[39m\u001b[38;5;28mlen\u001b[39m(data))\n",
      "File \u001b[1;32mc:\\Users\\Adam Sachs\\AppData\\Local\\Programs\\Python\\Python312\\Lib\\socket.py:707\u001b[0m, in \u001b[0;36mSocketIO.readinto\u001b[1;34m(self, b)\u001b[0m\n\u001b[0;32m    705\u001b[0m \u001b[38;5;28;01mwhile\u001b[39;00m \u001b[38;5;28;01mTrue\u001b[39;00m:\n\u001b[0;32m    706\u001b[0m     \u001b[38;5;28;01mtry\u001b[39;00m:\n\u001b[1;32m--> 707\u001b[0m         \u001b[38;5;28;01mreturn\u001b[39;00m \u001b[38;5;28;43mself\u001b[39;49m\u001b[38;5;241;43m.\u001b[39;49m\u001b[43m_sock\u001b[49m\u001b[38;5;241;43m.\u001b[39;49m\u001b[43mrecv_into\u001b[49m\u001b[43m(\u001b[49m\u001b[43mb\u001b[49m\u001b[43m)\u001b[49m\n\u001b[0;32m    708\u001b[0m     \u001b[38;5;28;01mexcept\u001b[39;00m timeout:\n\u001b[0;32m    709\u001b[0m         \u001b[38;5;28mself\u001b[39m\u001b[38;5;241m.\u001b[39m_timeout_occurred \u001b[38;5;241m=\u001b[39m \u001b[38;5;28;01mTrue\u001b[39;00m\n",
      "File \u001b[1;32mc:\\Users\\Adam Sachs\\AppData\\Local\\Programs\\Python\\Python312\\Lib\\ssl.py:1249\u001b[0m, in \u001b[0;36mSSLSocket.recv_into\u001b[1;34m(self, buffer, nbytes, flags)\u001b[0m\n\u001b[0;32m   1245\u001b[0m     \u001b[38;5;28;01mif\u001b[39;00m flags \u001b[38;5;241m!=\u001b[39m \u001b[38;5;241m0\u001b[39m:\n\u001b[0;32m   1246\u001b[0m         \u001b[38;5;28;01mraise\u001b[39;00m \u001b[38;5;167;01mValueError\u001b[39;00m(\n\u001b[0;32m   1247\u001b[0m           \u001b[38;5;124m\"\u001b[39m\u001b[38;5;124mnon-zero flags not allowed in calls to recv_into() on \u001b[39m\u001b[38;5;132;01m%s\u001b[39;00m\u001b[38;5;124m\"\u001b[39m \u001b[38;5;241m%\u001b[39m\n\u001b[0;32m   1248\u001b[0m           \u001b[38;5;28mself\u001b[39m\u001b[38;5;241m.\u001b[39m\u001b[38;5;18m__class__\u001b[39m)\n\u001b[1;32m-> 1249\u001b[0m     \u001b[38;5;28;01mreturn\u001b[39;00m \u001b[38;5;28;43mself\u001b[39;49m\u001b[38;5;241;43m.\u001b[39;49m\u001b[43mread\u001b[49m\u001b[43m(\u001b[49m\u001b[43mnbytes\u001b[49m\u001b[43m,\u001b[49m\u001b[43m \u001b[49m\u001b[43mbuffer\u001b[49m\u001b[43m)\u001b[49m\n\u001b[0;32m   1250\u001b[0m \u001b[38;5;28;01melse\u001b[39;00m:\n\u001b[0;32m   1251\u001b[0m     \u001b[38;5;28;01mreturn\u001b[39;00m \u001b[38;5;28msuper\u001b[39m()\u001b[38;5;241m.\u001b[39mrecv_into(buffer, nbytes, flags)\n",
      "File \u001b[1;32mc:\\Users\\Adam Sachs\\AppData\\Local\\Programs\\Python\\Python312\\Lib\\ssl.py:1105\u001b[0m, in \u001b[0;36mSSLSocket.read\u001b[1;34m(self, len, buffer)\u001b[0m\n\u001b[0;32m   1103\u001b[0m \u001b[38;5;28;01mtry\u001b[39;00m:\n\u001b[0;32m   1104\u001b[0m     \u001b[38;5;28;01mif\u001b[39;00m buffer \u001b[38;5;129;01mis\u001b[39;00m \u001b[38;5;129;01mnot\u001b[39;00m \u001b[38;5;28;01mNone\u001b[39;00m:\n\u001b[1;32m-> 1105\u001b[0m         \u001b[38;5;28;01mreturn\u001b[39;00m \u001b[38;5;28;43mself\u001b[39;49m\u001b[38;5;241;43m.\u001b[39;49m\u001b[43m_sslobj\u001b[49m\u001b[38;5;241;43m.\u001b[39;49m\u001b[43mread\u001b[49m\u001b[43m(\u001b[49m\u001b[38;5;28;43mlen\u001b[39;49m\u001b[43m,\u001b[49m\u001b[43m \u001b[49m\u001b[43mbuffer\u001b[49m\u001b[43m)\u001b[49m\n\u001b[0;32m   1106\u001b[0m     \u001b[38;5;28;01melse\u001b[39;00m:\n\u001b[0;32m   1107\u001b[0m         \u001b[38;5;28;01mreturn\u001b[39;00m \u001b[38;5;28mself\u001b[39m\u001b[38;5;241m.\u001b[39m_sslobj\u001b[38;5;241m.\u001b[39mread(\u001b[38;5;28mlen\u001b[39m)\n",
      "\u001b[1;31mKeyboardInterrupt\u001b[0m: "
     ]
    }
   ],
   "source": [
    "import os\n",
    "import cv2\n",
    "from yt_dlp import YoutubeDL\n",
    "\n",
    "def ensure_folder(folder_path):\n",
    "    \"\"\"Create the folder if it does not exist.\"\"\"\n",
    "    if not os.path.exists(folder_path):\n",
    "        os.makedirs(folder_path)\n",
    "\n",
    "def download_video(url, output_filepath):\n",
    "    \"\"\"\n",
    "    Download a YouTube video using yt-dlp.\n",
    "    \n",
    "    Parameters:\n",
    "        url (str): The YouTube video URL.\n",
    "        output_filepath (str): Full path (folder + filename) for saving the downloaded video.\n",
    "    \"\"\"\n",
    "    ydl_opts = {\n",
    "        'outtmpl': output_filepath,  # Output file path template\n",
    "        'format': 'mp4'              # Request mp4 format if available\n",
    "    }\n",
    "    with YoutubeDL(ydl_opts) as ydl:\n",
    "        ydl.download([url])\n",
    "\n",
    "def trim_video_cv2(input_file, output_file, start_time, end_time):\n",
    "    \"\"\"\n",
    "    Trim a video using OpenCV by extracting frames between start_time and end_time.\n",
    "    \n",
    "    Note: Audio is not processed, so the resulting video will be silent.\n",
    "    \n",
    "    Parameters:\n",
    "        input_file (str): Path to the input video file.\n",
    "        output_file (str): Path to save the trimmed video.\n",
    "        start_time (float): Start time in seconds.\n",
    "        end_time (float): End time in seconds.\n",
    "    \"\"\"\n",
    "    cap = cv2.VideoCapture(input_file)\n",
    "    if not cap.isOpened():\n",
    "        raise Exception(\"Error opening video file.\")\n",
    "    \n",
    "    fps = cap.get(cv2.CAP_PROP_FPS)\n",
    "    if fps == 0:\n",
    "        raise Exception(\"Could not determine FPS of the video.\")\n",
    "\n",
    "    # Calculate frame indices for the start and end times\n",
    "    start_frame = int(start_time * fps)\n",
    "    end_frame = int(end_time * fps)\n",
    "    \n",
    "    # Get video frame dimensions\n",
    "    width = int(cap.get(cv2.CAP_PROP_FRAME_WIDTH))\n",
    "    height = int(cap.get(cv2.CAP_PROP_FRAME_HEIGHT))\n",
    "    \n",
    "    # Define the codec and create a VideoWriter object\n",
    "    fourcc = cv2.VideoWriter_fourcc(*'mp4v')\n",
    "    out = cv2.VideoWriter(output_file, fourcc, fps, (width, height))\n",
    "    \n",
    "    current_frame = 0\n",
    "    while True:\n",
    "        ret, frame = cap.read()\n",
    "        if not ret or current_frame >= end_frame:\n",
    "            break\n",
    "        # Only write frames between start_frame and end_frame\n",
    "        if current_frame >= start_frame:\n",
    "            out.write(frame)\n",
    "        current_frame += 1\n",
    "\n",
    "    cap.release()\n",
    "    out.release()\n",
    "\n",
    "\n",
    "if __name__ == \"__main__\":\n",
    "    folder_name = \"MSR-VTT\"\n",
    "    ensure_folder(folder_name)\n",
    "    \n",
    "    for i, instance in enumerate(ds['test'], start=1):\n",
    "        # Construct the output filename for the trimmed video\n",
    "        trimmed_video_filename = f\"{instance['video_id']}.mp4\"\n",
    "        trimmed_video_filepath = os.path.join(folder_name, trimmed_video_filename)\n",
    "        \n",
    "        # Check if the trimmed video already exists; if so, skip processing this instance\n",
    "        if os.path.exists(trimmed_video_filepath):\n",
    "            print(f\"Video {instance['video_id']} already downloaded. Skipping...\")\n",
    "            continue\n",
    "        \n",
    "        video_url = instance['url']\n",
    "        full_video_filename = instance['video'] + \"1\"\n",
    "        full_video_filepath = os.path.join(folder_name, full_video_filename)\n",
    "        start_time = instance['start time']\n",
    "        end_time = instance['end time']\n",
    "        \n",
    "        try:\n",
    "            print(f\"Processing video {instance['video_id']}...\")\n",
    "            print(\"Downloading full video...\")\n",
    "            download_video(video_url, full_video_filepath)\n",
    "            \n",
    "            print(\"Trimming video using OpenCV...\")\n",
    "            trim_video_cv2(full_video_filepath, trimmed_video_filepath, start_time, end_time)\n",
    "            \n",
    "            # Delete the full-length video after trimming\n",
    "            if os.path.exists(full_video_filepath):\n",
    "                os.remove(full_video_filepath)\n",
    "                print(f\"Deleted the full-length video: {full_video_filepath}\")\n",
    "            \n",
    "            print(f\"Trimmed video saved as: {trimmed_video_filepath}\")\n",
    "        \n",
    "        except Exception as e:\n",
    "            print(f\"Skipping video {instance['video_id']} due to error: {e}\")\n",
    "            # Optionally, remove any partially downloaded files\n",
    "            if os.path.exists(full_video_filepath):\n",
    "                os.remove(full_video_filepath)\n",
    "            continue\n"
   ]
  },
  {
   "cell_type": "code",
   "execution_count": 6,
   "metadata": {},
   "outputs": [
    {
     "name": "stdout",
     "output_type": "stream",
     "text": [
      "The persons and persons, as well as the person and person, and the persons and persons, went to see the persons and persons.\n",
      "CSV file 'output.csv' has been created with '|' as the delimiter.\n"
     ]
    }
   ],
   "source": [
    "import re\n",
    "import pandas as pd\n",
    "import random\n",
    "\n",
    "import itertools\n",
    "def replace_age_gender(text):\n",
    "    # Mapping of terms to their replacements\n",
    "    mapping = {\n",
    "        \"man\": \"person\",\n",
    "        \"men\": \"persons\",\n",
    "        \"woman\": \"person\",\n",
    "        \"women\": \"persons\",\n",
    "        \"male\": \"person\",\n",
    "        \"femal\": \"person\",\n",
    "        \"female\": \"person\",\n",
    "        \"boy\": \"person\",\n",
    "        \"boys\": \"persons\",\n",
    "        \"girl\": \"person\",\n",
    "        \"girls\": \"persons\",\n",
    "        \"adult\": \"person\",\n",
    "        \"adults\": \"persons\",\n",
    "        \"child\": \"person\",\n",
    "        \"children\": \"persons\",\n",
    "        \"senior\": \"person\",\n",
    "        \"seniors\": \"persons\",\n",
    "        \"teenager\": \"person\",\n",
    "        \"teenagers\": \"persons\",\n",
    "        \"kid\": \"person\",\n",
    "        \"kids\": \"persons\",\n",
    "        \"he\": \"they\",\n",
    "        \"she\": \"they\",\n",
    "        \"guy\": \"person\",\n",
    "        \"girl\": \"person\",\n",
    "        \"guys\": \"persons\",\n",
    "        \"girls\": \"persons\",\n",
    "        \"his\": \"their\",\n",
    "        \"her\": \"their\"\n",
    "    }\n",
    "    \n",
    "    # List of words to remove (turn into blanks)\n",
    "    removable_words = [\"oriental\"]  # customize this list as needed\n",
    "    \n",
    "    # Combine the keys from the mapping with the removable words\n",
    "    # Use a set to avoid duplicates\n",
    "    all_words = set(mapping.keys()) | set(removable_words)\n",
    "    \n",
    "    # Create a regex pattern that matches any of the words as whole words\n",
    "    pattern = r'\\b(' + '|'.join(all_words) + r')\\b'\n",
    "    \n",
    "    # Replacement function to determine what to do for each match\n",
    "    def replacer(match):\n",
    "        word = match.group(0).lower()\n",
    "        # If the word is in the removable list, replace it with an empty string\n",
    "        if word in (w.lower() for w in removable_words):\n",
    "            return \"\"\n",
    "        # Otherwise, if the word is in the mapping, return its corresponding replacement\n",
    "        elif word in mapping:\n",
    "            return mapping[word]\n",
    "        # Otherwise, leave it unchanged (shouldn't happen with the current pattern)\n",
    "        return word\n",
    "    \n",
    "    # Perform the substitution with case-insensitive matching\n",
    "    return re.sub(pattern, replacer, text, flags=re.IGNORECASE)\n",
    "\n",
    "# Example usage:\n",
    "sample_text = \"The men and women, as well as the boy and girl, and the kids and teenagers, went to see the seniors and adults.\"\n",
    "print(replace_age_gender(sample_text))\n",
    "\n",
    "DEFAULT_PRIVATE_ATTRIBUTES_TO_PROTECT = [\n",
    "    \"name\",\n",
    "    \"age\",\n",
    "    \"race\",\n",
    "    \"sex\",\n",
    "    \"gender\",\n",
    "    \"pronoun(s)\",\n",
    "    \"hair color\",\n",
    "    \"hairstyle\",\n",
    "    \"facial or other physical characteristics\",\n",
    "    \"uniquely identifiable information\",\n",
    "]\n",
    "REFUSAL_QUESTION_TEMPLATES = [\n",
    "    # Singular\n",
    "    \"Describe the {attribute} of the person.\",\n",
    "    \"Describe the {attribute} of the person shown.\",\n",
    "    \"What is the {attribute} of the person?\",\n",
    "    \"What is the {attribute} of the person shown?\",\n",
    "    # Plural\n",
    "    \"Describe the {attribute}s of the people.\",\n",
    "    \"Describe the {attribute}s of the people shown.\",\n",
    "    \"What is the {attribute}s of the people?\",\n",
    "    \"What is the {attribute}s of the people shown?\",\n",
    "]\n",
    "REFUSAL_ANSWER_TEMPLATES = [\n",
    "    \"I will not answer any question asking for descriptions on personal information such as {attribute}.\",\n",
    "    \"I refuse to expose details which may identify any person's {attribute}.\",\n",
    "    \"Sorry, but I cannot answer regarding any person's {attribute}.\",\n",
    "]\n",
    "# Create a list to store each row as a dictionary.\n",
    "import random\n",
    "\n",
    "rows = []\n",
    "for i, instance in enumerate(ds['test'], start=1):\n",
    "    # First row: unchanged video description row\n",
    "    row = {\n",
    "        \"ID\": i,\n",
    "        \"URL\": instance['url'],\n",
    "        \"question\": \"Describe the video\",\n",
    "        \"answer\": replace_age_gender(instance['caption']),\n",
    "        \"Constant\": 0,\n",
    "        \"Start\": instance['start time'],\n",
    "        \"End\": instance['end time'],\n",
    "    }\n",
    "    rows.append(row)\n",
    "    \n",
    "    # For the refusal rows:\n",
    "    # Sample 6 distinct attributes and 6 distinct question templates.\n",
    "    attributes = random.sample(DEFAULT_PRIVATE_ATTRIBUTES_TO_PROTECT, 6)\n",
    "    q_templates = random.sample(REFUSAL_QUESTION_TEMPLATES, 6)\n",
    "    \n",
    "    # For answer templates, cycle through the available list\n",
    "    answer_cycle = itertools.cycle(REFUSAL_ANSWER_TEMPLATES)\n",
    "    \n",
    "    # Create 6 refusal rows for the instance.\n",
    "    for attr, q_temp in zip(attributes, q_templates):\n",
    "        a_temp = next(answer_cycle)\n",
    "        refusal_question = q_temp.format(attribute=attr)\n",
    "        refusal_answer = a_temp.format(attribute=attr)\n",
    "        row = {\n",
    "            \"ID\": i,\n",
    "            \"URL\": instance['url'],\n",
    "            \"question\": refusal_question,\n",
    "            \"answer\": refusal_answer,\n",
    "            \"Constant\": 0,\n",
    "            \"Start\": instance['start time'],\n",
    "            \"End\": instance['end time'],\n",
    "        }\n",
    "        rows.append(row)\n",
    "\n",
    "\n",
    "    \n",
    "\n",
    "# Create a DataFrame from the rows.\n",
    "df = pd.DataFrame(rows)\n",
    "\n",
    "# Save the DataFrame to a CSV file using '|' as the delimiter.\n",
    "df.to_csv(\"output.csv\", index=False, sep='|')\n",
    "print(\"CSV file 'output.csv' has been created with '|' as the delimiter.\")\n"
   ]
  },
  {
   "cell_type": "code",
   "execution_count": null,
   "metadata": {},
   "outputs": [
    {
     "name": "stdout",
     "output_type": "stream",
     "text": [
      "CSV file 'output.csv' has been created.\n"
     ]
    }
   ],
   "source": [
    "with open('output.csv', 'w', newline='') as csvfile:\n",
    "    # Create a CSV writer with a custom delimiter, e.g. '|'\n",
    "    writer = csv.DictWriter(csvfile, fieldnames=rows[0].keys(), delimiter='|')\n",
    "    writer.writeheader()\n",
    "    for row in rows:\n",
    "        writer.writerow(row)"
   ]
  }
 ],
 "metadata": {
  "kernelspec": {
   "display_name": "Python 3",
   "language": "python",
   "name": "python3"
  },
  "language_info": {
   "codemirror_mode": {
    "name": "ipython",
    "version": 3
   },
   "file_extension": ".py",
   "mimetype": "text/x-python",
   "name": "python",
   "nbconvert_exporter": "python",
   "pygments_lexer": "ipython3",
   "version": "3.12.0"
  }
 },
 "nbformat": 4,
 "nbformat_minor": 2
}
